{
 "cells": [
  {
   "cell_type": "code",
   "execution_count": 1,
   "metadata": {},
   "outputs": [],
   "source": [
    "import pandas as pd\n",
    "\n",
    "pd.set_option(\"display.max_rows\", 999)\n",
    "pd.set_option(\"display.max_columns\", 999)\n",
    "pd.set_option('display.max_rows', 999)\n",
    "pd.set_option('display.min_rows', 999)\n",
    "\n",
    "%config IPCompleter.use_jedi = False"
   ]
  },
  {
   "cell_type": "markdown",
   "metadata": {},
   "source": [
    "# Load Data From Cornell Data Set\n",
    "The data come from here: https://pad.human.cornell.edu/schools/datadownload.cfm.  Below, we do the following:\n",
    "* lowercase all of column names\n",
    "* choose the 'All Students' subgroups (because the other subgroup membership isn't consistent)\n",
    "* change data types on grad to integer\n",
    "* truncate year in grad to always be the same length. \n",
    "* NOTE: All of these are intact as downloaded except, although you may have to play around with loading data on tabs vs spaces.\n",
    "\n",
    "# Merge the data Sets\n",
    "Then following that, we do the following:\n",
    "\n",
    "* merge graduation + demographcis on district code * year (this yields multiple cohorts per year & district)\n",
    "* write to .csv for safe keeping"
   ]
  },
  {
   "cell_type": "code",
   "execution_count": 2,
   "metadata": {},
   "outputs": [
    {
     "data": {
      "text/plain": [
       "(32256, 14)"
      ]
     },
     "metadata": {},
     "output_type": "display_data"
    },
    {
     "name": "stdout",
     "output_type": "stream",
     "text": [
      "CPU times: user 838 ms, sys: 146 ms, total: 985 ms\n",
      "Wall time: 1 s\n"
     ]
    }
   ],
   "source": [
    "%%time \n",
    "grad = pd.read_csv('../data/graduation_all.csv')\n",
    "grad.columns = grad.columns.str.lower()\n",
    "grad['year'] = grad.srcyear.astype(str).str[:4]\n",
    "grad = grad[grad.subgroup == 1.0]\n",
    "grad.year = grad.year.astype('int')\n",
    "display(grad.shape)\n",
    "\n",
    "apm = pd.read_csv(\"../data/apm_all.csv\")\n",
    "apm.columns = apm.columns.str.lower()\n",
    "apm = apm[apm.subgroup == 1]\n",
    "\n",
    "demo = pd.read_csv('../data/Demographics_all.csv')\n",
    "demo.columns = demo.columns.str.lower()\n",
    "\n",
    "faru = pd.read_csv(\"../data/FARU_all.csv\")\n",
    "faru.columns = faru.columns.str.lower()\n",
    "\n",
    "basicinfo = pd.read_csv(\"../data/BasicInfo.csv\")\n",
    "basicinfo.columns = basicinfo.columns.str.lower()\n",
    "basicinfo[\"district_name\"] = basicinfo.district_name.str.lower()\n",
    "basicinfo['name'] = basicinfo[\"district_name\"].str.replace(\" sd\", \"\")\n",
    "basicinfo['name'] = basicinfo[\"name\"].str.replace(\" csd\", \" central\")\n",
    "basicinfo['name'] = basicinfo[\"name\"].str.replace(\" ufsd\", \"\")"
   ]
  },
  {
   "cell_type": "code",
   "execution_count": 3,
   "metadata": {},
   "outputs": [],
   "source": [
    "df1 = pd.merge(grad, demo, \n",
    "               how='inner', \n",
    "               left_on=[\"district_cd\", \"year\"], \n",
    "               right_on=[\"district\", \"year\"], \n",
    "               suffixes=[\"_from_grad\", \"_from_demo\"])\n",
    "\n",
    "df = pd.merge(df1, faru, \n",
    "              how='inner', \n",
    "              left_on=[\"district_cd\", \"year\"], \n",
    "              right_on=[\"district\", \"year\"],\n",
    "              suffixes=[\"_from_df1\", \"_from_faru\"])\n",
    "\n",
    "df.to_csv(\"../data/apm_demo_faru_grad_clean.csv\")"
   ]
  },
  {
   "cell_type": "markdown",
   "metadata": {},
   "source": [
    "# County Join\n",
    "Here we have to do some pandas gymnastics as we clean up the data enough to join counties to the data set. Here's what we are doing:\n",
    "1. load the NYSED data set (https://data.nysed.gov/downloads.php) into df_combined\n",
    "2. clean it up and filter for district level aggregation and subgroup_code = 1\n",
    "3. load the district to name county mapping and clean up\n",
    "4. merge the data and save to csv\n"
   ]
  },
  {
   "cell_type": "code",
   "execution_count": 4,
   "metadata": {},
   "outputs": [
    {
     "data": {
      "text/html": [
       "<div>\n",
       "<style scoped>\n",
       "    .dataframe tbody tr th:only-of-type {\n",
       "        vertical-align: middle;\n",
       "    }\n",
       "\n",
       "    .dataframe tbody tr th {\n",
       "        vertical-align: top;\n",
       "    }\n",
       "\n",
       "    .dataframe thead th {\n",
       "        text-align: right;\n",
       "    }\n",
       "</style>\n",
       "<table border=\"1\" class=\"dataframe\">\n",
       "  <thead>\n",
       "    <tr style=\"text-align: right;\">\n",
       "      <th></th>\n",
       "      <th>county_name</th>\n",
       "      <th>district_name</th>\n",
       "    </tr>\n",
       "  </thead>\n",
       "  <tbody>\n",
       "    <tr>\n",
       "      <th>0</th>\n",
       "      <td>Albany</td>\n",
       "      <td>rotterdam-mohonasen central</td>\n",
       "    </tr>\n",
       "    <tr>\n",
       "      <th>1</th>\n",
       "      <td>Albany</td>\n",
       "      <td>north colonie central</td>\n",
       "    </tr>\n",
       "    <tr>\n",
       "      <th>2</th>\n",
       "      <td>Albany</td>\n",
       "      <td>albany city</td>\n",
       "    </tr>\n",
       "    <tr>\n",
       "      <th>3</th>\n",
       "      <td>Albany</td>\n",
       "      <td>berne-knox-westerlo central</td>\n",
       "    </tr>\n",
       "    <tr>\n",
       "      <th>4</th>\n",
       "      <td>Albany</td>\n",
       "      <td>bethlehem central</td>\n",
       "    </tr>\n",
       "  </tbody>\n",
       "</table>\n",
       "</div>"
      ],
      "text/plain": [
       "  county_name                district_name\n",
       "0      Albany  rotterdam-mohonasen central\n",
       "1      Albany        north colonie central\n",
       "2      Albany                  albany city\n",
       "3      Albany  berne-knox-westerlo central\n",
       "4      Albany            bethlehem central"
      ]
     },
     "metadata": {},
     "output_type": "display_data"
    },
    {
     "data": {
      "text/plain": [
       "county_name      object\n",
       "district_name    object\n",
       "dtype: object"
      ]
     },
     "metadata": {},
     "output_type": "display_data"
    },
    {
     "data": {
      "text/plain": [
       "682"
      ]
     },
     "metadata": {},
     "output_type": "display_data"
    }
   ],
   "source": [
    "county_coverage = pd.read_table(\"../data/36_County_Coverage_A.txt\", sep=\"[ ]{2,}\", header=0, engine = 'python')\n",
    "county_coverage['district_name'] = county_coverage.name.str.lower()\n",
    "cc = county_coverage[[\"county_name\", \"district_name\"]]\n",
    "display(cc.head())\n",
    "display(cc.dtypes)\n",
    "display(cc.district_name.nunique())\n",
    "\n",
    "b = basicinfo[[\"districtid\", \"name\"]]"
   ]
  },
  {
   "cell_type": "code",
   "execution_count": 5,
   "metadata": {},
   "outputs": [
    {
     "data": {
      "text/html": [
       "<div>\n",
       "<style scoped>\n",
       "    .dataframe tbody tr th:only-of-type {\n",
       "        vertical-align: middle;\n",
       "    }\n",
       "\n",
       "    .dataframe tbody tr th {\n",
       "        vertical-align: top;\n",
       "    }\n",
       "\n",
       "    .dataframe thead th {\n",
       "        text-align: right;\n",
       "    }\n",
       "</style>\n",
       "<table border=\"1\" class=\"dataframe\">\n",
       "  <thead>\n",
       "    <tr style=\"text-align: right;\">\n",
       "      <th></th>\n",
       "      <th>districtid</th>\n",
       "      <th>name</th>\n",
       "      <th>county_name</th>\n",
       "      <th>district_name</th>\n",
       "    </tr>\n",
       "  </thead>\n",
       "  <tbody>\n",
       "    <tr>\n",
       "      <th>0</th>\n",
       "      <td>10100</td>\n",
       "      <td>albany city</td>\n",
       "      <td>Albany</td>\n",
       "      <td>albany city</td>\n",
       "    </tr>\n",
       "    <tr>\n",
       "      <th>1</th>\n",
       "      <td>10201</td>\n",
       "      <td>berne-knox-westerlo central</td>\n",
       "      <td>Albany</td>\n",
       "      <td>berne-knox-westerlo central</td>\n",
       "    </tr>\n",
       "    <tr>\n",
       "      <th>2</th>\n",
       "      <td>10201</td>\n",
       "      <td>berne-knox-westerlo central</td>\n",
       "      <td>Schoharie</td>\n",
       "      <td>berne-knox-westerlo central</td>\n",
       "    </tr>\n",
       "    <tr>\n",
       "      <th>3</th>\n",
       "      <td>10306</td>\n",
       "      <td>bethlehem central</td>\n",
       "      <td>Albany</td>\n",
       "      <td>bethlehem central</td>\n",
       "    </tr>\n",
       "    <tr>\n",
       "      <th>4</th>\n",
       "      <td>10402</td>\n",
       "      <td>ravena-coeymans-selkirk central</td>\n",
       "      <td>Albany</td>\n",
       "      <td>ravena-coeymans-selkirk central</td>\n",
       "    </tr>\n",
       "  </tbody>\n",
       "</table>\n",
       "</div>"
      ],
      "text/plain": [
       "   districtid                             name county_name  \\\n",
       "0       10100                      albany city      Albany   \n",
       "1       10201      berne-knox-westerlo central      Albany   \n",
       "2       10201      berne-knox-westerlo central   Schoharie   \n",
       "3       10306                bethlehem central      Albany   \n",
       "4       10402  ravena-coeymans-selkirk central      Albany   \n",
       "\n",
       "                     district_name  \n",
       "0                      albany city  \n",
       "1      berne-knox-westerlo central  \n",
       "2      berne-knox-westerlo central  \n",
       "3                bethlehem central  \n",
       "4  ravena-coeymans-selkirk central  "
      ]
     },
     "metadata": {},
     "output_type": "display_data"
    },
    {
     "data": {
      "text/plain": [
       "(804, 4)"
      ]
     },
     "metadata": {},
     "output_type": "display_data"
    }
   ],
   "source": [
    "map1 = pd.merge(b, cc, how=\"inner\", left_on=\"name\", right_on=\"district_name\")\n",
    "display(map1.head())\n",
    "display(map1.shape)"
   ]
  },
  {
   "cell_type": "code",
   "execution_count": 10,
   "metadata": {},
   "outputs": [],
   "source": [
    "df_with_counties = pd.merge(df, map1,\n",
    "                           how='left',\n",
    "                           left_on='district_cd',\n",
    "                           right_on='districtid',\n",
    "                           suffixes=['_from_df', '_from_map'])"
   ]
  },
  {
   "cell_type": "code",
   "execution_count": 11,
   "metadata": {},
   "outputs": [],
   "source": [
    "df_with_counties.to_csv(\"../data/df_with_counties_v1.csv\")"
   ]
  },
  {
   "cell_type": "markdown",
   "metadata": {},
   "source": [
    "# Clean NAs\n"
   ]
  },
  {
   "cell_type": "code",
   "execution_count": 12,
   "metadata": {},
   "outputs": [],
   "source": [
    "df = pd.read_csv(\"../data/df_with_counties_v1.csv\")"
   ]
  },
  {
   "cell_type": "code",
   "execution_count": 13,
   "metadata": {},
   "outputs": [
    {
     "data": {
      "text/plain": [
       "Index(['_name_', 'gr_local_cnt', 'num_female', 'num_male', 'num_swd',\n",
       "       'num_ecdis', 'num_ell'],\n",
       "      dtype='object')"
      ]
     },
     "metadata": {},
     "output_type": "display_data"
    },
    {
     "data": {
      "text/plain": [
       "Index(['num_asian', 'num_black', 'num_hisp', 'num_am_ind', 'num_white',\n",
       "       'num_multi', 'districtid', 'name', 'county_name', 'district_name'],\n",
       "      dtype='object')"
      ]
     },
     "metadata": {},
     "output_type": "display_data"
    }
   ],
   "source": [
    "# drop all cols with huge percent of NA (in the 1e5 range) - drop these columns\n",
    "display(df.columns[(df.isna().sum() > 10000).values])\n",
    "df_col_clean = df.drop(columns=df.columns[(df.isna().sum() > 10000).values])\n",
    "\n",
    "# now all the na's between 0 and 10000 (drop these rows)\n",
    "display(df_col_clean.columns[(df_col_clean.isna().sum() > 0).values])\n",
    "df_row_clean = df_col_clean.dropna(axis = 0, subset = ['county_name']) # 6000 or so rows that can't be used"
   ]
  },
  {
   "cell_type": "markdown",
   "metadata": {},
   "source": [
    "# Impute Missing Values"
   ]
  },
  {
   "cell_type": "code",
   "execution_count": 14,
   "metadata": {},
   "outputs": [
    {
     "data": {
      "text/plain": [
       "<matplotlib.lines.Line2D at 0x113509ad0>"
      ]
     },
     "execution_count": 14,
     "metadata": {},
     "output_type": "execute_result"
    },
    {
     "data": {
      "image/png": "[encoded data removed]",
      "text/plain": [
       "<Figure size 432x288 with 1 Axes>"
      ]
     },
     "metadata": {
      "needs_background": "light"
     },
     "output_type": "display_data"
    }
   ],
   "source": [
    "import matplotlib.pyplot as plt\n",
    "\n",
    "df_row_clean.num_asian.plot(kind='hist', \n",
    "                            bins=2000, \n",
    "                            xlim=(0, 100))\n",
    "plt.axvline(df_row_clean.num_asian.mean(), color='red')\n",
    "plt.axvline(df_row_clean.num_asian.median(), color='green')"
   ]
  },
  {
   "cell_type": "code",
   "execution_count": 19,
   "metadata": {},
   "outputs": [],
   "source": [
    "race_impute = df_row_clean[['num_asian', \n",
    "                           'num_black', \n",
    "                           'num_hisp', \n",
    "                           'num_multi']].fillna(df_row_clean[['num_asian', \n",
    "                                                              'num_black', \n",
    "                                                              'num_hisp', \n",
    "                                                              'num_multi']].median())\n"
   ]
  },
  {
   "cell_type": "code",
   "execution_count": 20,
   "metadata": {},
   "outputs": [],
   "source": [
    "\n",
    "\n",
    "# replace imputed race columns into df_row_clean\n",
    "df_row_clean = df_row_clean.assign(num_asian = race_impute[\"num_asian\"])\n",
    "df_row_clean = df_row_clean.assign(num_black = race_impute[\"num_black\"])\n",
    "df_row_clean = df_row_clean.assign(num_hisp = race_impute[\"num_hisp\"])\n",
    "df_row_clean = df_row_clean.assign(num_multi = race_impute[\"num_multi\"])\n",
    "\n"
   ]
  },
  {
   "cell_type": "code",
   "execution_count": null,
   "metadata": {},
   "outputs": [],
   "source": [
    "df_final.to_csv('./df_clean_unreg.csv')"
   ]
  },
  {
   "cell_type": "code",
   "execution_count": 22,
   "metadata": {},
   "outputs": [
    {
     "data": {
      "text/plain": [
       "(32632, 83)"
      ]
     },
     "execution_count": 22,
     "metadata": {},
     "output_type": "execute_result"
    }
   ],
   "source": [
    "df_row_clean.shape"
   ]
  },
  {
   "cell_type": "code",
   "execution_count": null,
   "metadata": {},
   "outputs": [],
   "source": []
  }
 ],
 "metadata": {
  "kernelspec": {
   "display_name": "Python 3",
   "language": "python",
   "name": "python3"
  },
  "language_info": {
   "codemirror_mode": {
    "name": "ipython",
    "version": 3
   },
   "file_extension": ".py",
   "mimetype": "text/x-python",
   "name": "python",
   "nbconvert_exporter": "python",
   "pygments_lexer": "ipython3",
   "version": "3.7.8"
  }
 },
 "nbformat": 4,
 "nbformat_minor": 4
}
