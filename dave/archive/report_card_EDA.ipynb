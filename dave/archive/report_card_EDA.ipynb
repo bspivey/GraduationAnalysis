{
 "cells": [
  {
   "cell_type": "markdown",
   "metadata": {},
   "source": [
    "# Database Tables\n",
    "\n",
    "\n",
    "* Merging Graduation Rate and Report Card tables\n",
    "\t\n",
    "\tGraduation Rate\t\tReport Card\n",
    "\tAGGREGATION_CODE   ==\tENTITY_CD\n",
    "\n",
    "\n",
    "# Report Card Database Tables\n",
    "* Combined state/federal expenditure per student by school and county: Expenditures per Pupil\n",
    "\t- PER_FED_STATE_LOCAL_EXP: combines state and federal\n",
    "\t- PUPIL_COUNT_TOT\n",
    "\t- YEAR\n",
    "\t- ENTITY_NAME\n",
    "\t- ENTITY_CD\n",
    "\n",
    "* Staff inexperience or out of certification by school and county: Staff Qualifications or Staff\n",
    "\t- PER_TEACH_INEXP\n",
    "\t- PER_PRINC_INEXP\n",
    "\t- PER_OUT_CERT\n",
    "\t- ENTITY_NAME\n",
    "\t- ENTITY_CD\n",
    "\n",
    "* Subgroup distributions: ACC HS Graduation Rate\n",
    "\t- SUBGROUP_NAME: ethnicity, disabilities, economically disadvantaged, English language learners.\n",
    "\t- COHORT_COUNT\n",
    "\t- GRAD_RATE\n",
    "\t- ENTITY_CD\n",
    "\t- ENTITY_NAME\n",
    "\n",
    "* Annual EM ELA/Math/Science Proficiency: Annual EM ELA, Annual EM MATH, Annual EM SCIENCE\n",
    "\t- PER_PROF (Shows most distinction)\n",
    "\t- TOTAL_SCALE_SCORES\n",
    "\t- MEAN_SCORES\n",
    "\t- SUBGROUP_NAME\n",
    "\t- YEAR\n",
    "\t- ASSESSMENT_NAME\n",
    "\t- ENTITY_NAME\n",
    "\t- ENTITY_CD\n",
    "\n",
    "* Graduation rates: ACC HS Graduation Rate\n",
    "\t- GRAD_RATE\n",
    "\t- COHORT_COUNT\n",
    "\t- YEAR\n",
    "\t- SUBGROUP_NAME\n",
    "\t- ENTITY_NAME\n",
    "\t- ENTITY_CD\n"
   ]
  },
  {
   "cell_type": "code",
   "execution_count": 1,
   "metadata": {},
   "outputs": [],
   "source": [
    "import sys, subprocess\n",
    "from io import StringIO\n",
    "import pandas as pd\n",
    "from importlib import reload\n",
    "# import mdb_pandas_api\n",
    "\n",
    "verbose = False\n",
    "# reload(mdb_pandas_api)"
   ]
  },
  {
   "cell_type": "code",
   "execution_count": 2,
   "metadata": {},
   "outputs": [],
   "source": [
    "# Read mdb into a dictionary of pandas tables\n",
    "def mdb_to_pandas(database_path):\n",
    "    subprocess.call([\"mdb-schema\", database_path, \"mysql\"])\n",
    "    # Get the list of table names with \"mdb-tables\"\n",
    "    table_names = subprocess.Popen([\"mdb-tables\", \"-1\", database_path],\n",
    "                                   stdout=subprocess.PIPE).communicate()[0]\n",
    "    tables = table_names.splitlines()\n",
    "    sys.stdout.flush()\n",
    "\n",
    "    # Dump each table as a stringio using \"mdb-export\",\n",
    "    out_tables = {}\n",
    "    for rtable in tables:\n",
    "        table = rtable.decode()\n",
    "        if verbose: print('running table:',table)\n",
    "        if table != '':\n",
    "            if verbose: print(\"Dumping \" + table)\n",
    "            contents = subprocess.Popen([\"mdb-export\", database_path, table],\n",
    "                                        stdout=subprocess.PIPE).communicate()[0]\n",
    "            temp_io = StringIO(contents.decode())\n",
    "            print(table, temp_io)\n",
    "            out_tables[table] = pd.read_csv(temp_io)\n",
    "    return out_tables\n",
    "\n",
    "# %% Merge staff qualification tables for 2015-2019\n",
    "def clean_2015_2017_data(df, year):\n",
    "    df.rename({'SCHOOL_NAME': 'ENTITY_NAME'}, axis='columns', inplace=True)\n",
    "    df.rename({'NUM_FEWER_3YRS_EXP': 'NUM_TEACH_INEXP'}, axis='columns', inplace=True)\n",
    "    df.rename({'NUM_TEACH_OUT_CERT': 'NUM_OUT_CERT'}, axis='columns', inplace=True)\n",
    "    df = df[['ENTITY_CD', 'NUM_TEACH', 'NUM_TEACH_INEXP', 'NUM_OUT_CERT']]\n",
    "    df = df.groupby(['ENTITY_CD']).sum()\n",
    "    df['YEAR'] = year\n",
    "    df['PER_TEACH_INEXP'] = 100 * df['NUM_TEACH_INEXP'] / df['NUM_TEACH']\n",
    "    df['PER_OUT_CERT'] = 100 * df['NUM_OUT_CERT'] / df['NUM_TEACH']\n",
    "    df.update(df[['PER_TEACH_INEXP','PER_OUT_CERT']].fillna(0))\n",
    "    df = df.round(decimals=2)\n",
    "    return df\n",
    "\n",
    "def clean_2018_2019_data(df, year):\n",
    "    df = df[['ENTITY_CD', 'NUM_TEACH', 'NUM_TEACH_INEXP', 'NUM_TEACH_OC', 'NUM_OUT_CERT']]\n",
    "    df = df.groupby(['ENTITY_CD']).sum()\n",
    "    df['YEAR'] = year\n",
    "    df['PER_TEACH_INEXP'] = 100 * df['NUM_TEACH_INEXP'] / df['NUM_TEACH']\n",
    "    df['PER_OUT_CERT'] = 100 * df['NUM_OUT_CERT'] / df['NUM_TEACH_OC']\n",
    "    df.update(df[['PER_TEACH_INEXP','PER_OUT_CERT']].fillna(0))\n",
    "    df.drop(['NUM_TEACH_OC'], axis=1, inplace=True)\n",
    "    df = df.round(decimals=2)\n",
    "    return df\n"
   ]
  },
  {
   "cell_type": "code",
   "execution_count": 3,
   "metadata": {},
   "outputs": [],
   "source": [
    "filepath = '../Data/df_staff_qualifications_19_20.pkl'\n",
    "df_staff_qualifications_19_20 = pd.read_pickle(filepath)"
   ]
  },
  {
   "cell_type": "code",
   "execution_count": 4,
   "metadata": {
    "jupyter": {
     "source_hidden": true
    }
   },
   "outputs": [
    {
     "data": {
      "text/plain": [
       "\"\\n# Graduation Rate and Outcomes 2018\\ndatabase_path = 'gradrate_2018/GRAD_RATE_AND_OUTCOMES_2018.mdb'\\nout_tables = mdb_to_pandas(database_path)\\ntable_names = list(out_tables.keys())\\ndf_grad_rate_18 = out_tables['GRAD_RATE_AND_OUTCOMES_2018']\\n\\nprint('-------')\\nprint('\\ntable names = ', table_names)\\nprint('\\ntable columns = ', df_grad_rate_18.columns)\\nprint('\\ntable head = ', df_grad_rate_18.head())\\n\\n# Graduation Rate and Outcomes 2017\\ndatabase_path = 'gradrate_2017/GRAD_RATE_AND_OUTCOMES_2017.mdb'\\nout_tables = mdb_to_pandas(database_path)\\ntable_names = list(out_tables.keys())\\ndf_grad_rate_17 = out_tables['GRAD_RATE_AND_OUTCOMES_2017']\\n\\nprint('-------')\\nprint('\\ntable names = ', table_names)\\nprint('\\ntable columns = ', df_grad_rate_17.columns)\\nprint('\\ntable head = ', df_grad_rate_17.head())\\n\\n# Graduation Rate and Outcomes 2016\\ndatabase_path = 'gradrate_2016/GRAD_RATE_AND_OUTCOMES_2016.mdb'\\nout_tables = mdb_to_pandas(database_path)\\ntable_names = list(out_tables.keys())\\ndf_grad_rate_16 = out_tables['GRAD_RATE_AND_OUTCOMES_2016']\\n\\nprint('-------')\\nprint('\\ntable names = ', table_names)\\nprint('\\ntable columns = ', df_grad_rate_16.columns)\\nprint('\\ntable head = ', df_grad_rate_16.head())\\n\\n# Graduation Rate and Outcomes 2015\\ndatabase_path = 'gradrate_2015/GRAD_RATE_AND_OUTCOMES_2015.mdb'\\nout_tables = mdb_to_pandas(database_path)\\ntable_names = list(out_tables.keys())\\ndf_grad_rate_15 = out_tables['GRAD_RATE_AND_OUTCOMES_2015']\\n\\nprint('-------')\\nprint('\\ntable names = ', table_names)\\nprint('\\ntable columns = ', df_grad_rate_15.columns)\\nprint('\\ntable head = ', df_grad_rate_15.head())\\n\\n\\n# Report Card Staff Qualifications 2019\\ndatabase_path = '../Data/SRC2019_20200703.mdb'\\nout_tables = mdb_to_pandas(database_path)\\ntable_names = list(out_tables.keys())\\ndf_staff_qualifications_19_20 = out_tables['Staff Qualifications']\\n\\nprint('-------')\\nprint('\\ntable names = ', table_names)\\nprint('\\ntable columns = ', df_staff_qualifications_19_20.columns)\\nprint('\\ntable head = ', df_staff_qualifications_19_20.head())\\n\\ndf_staff_qualifications_19_20.to_pickle('../Data/df_staff_qualifications_19_20.pkl')\\n\\n# Report Card Staff Qualifications 2018\\ndatabase_path = 'SRC2018/SRC2018_20190627.mdb'\\nout_tables = mdb_to_pandas(database_path)\\ntable_names = list(out_tables.keys())\\ndf_staff_qualifications_18_19 = out_tables['Staff Qualifications']\\n\\nprint('-------')\\nprint('\\ntable names = ', table_names)\\nprint('\\ntable columns = ', df_staff_qualifications_18_19.columns)\\nprint('\\ntable head = ', df_staff_qualifications_18_19.head())\\n\\n# Report Card Staff Qualifications 2017\\ndatabase_path = 'SRC2017/SRC2017GroupIIRelease.mdb'\\nout_tables = mdb_to_pandas(database_path)\\ntable_names = list(out_tables.keys())\\ndf_staff_qualifications_17 = out_tables['Staff']\\n\\nprint('-------')\\nprint('\\ntable names = ', table_names)\\nprint('\\ntable columns = ', df_staff_qualifications_17.columns)\\nprint('\\ntable head = ', df_staff_qualifications_17.head())\\n\\n# Report Card Staff Qualifications 2016\\ndatabase_path = 'SRC2016/SRC2016_GroupIII.mdb'\\nout_tables = mdb_to_pandas(database_path)\\ntable_names = list(out_tables.keys())\\ndf_staff_qualifications_16 = out_tables['Staff']\\n\\nprint('-------')\\nprint('\\ntable names = ', table_names)\\nprint('\\ntable columns = ', df_staff_qualifications_16.columns)\\nprint('\\ntable head = ', df_staff_qualifications_16.head())\\n\\n# Report Card Staff Qualifications 2015\\ndatabase_path = 'SRC2015/SRC2015.mdb'\\nout_tables = mdb_to_pandas(database_path)\\ntable_names = list(out_tables.keys())\\ndf_staff_qualifications_15 = out_tables['Staff']\\n\\nprint('-------')\\nprint('\\ntable names = ', table_names)\\nprint('\\ntable columns = ', df_staff_qualifications_15.columns)\\nprint('\\ntable head = ', df_staff_qualifications_15.head())\\n\""
      ]
     },
     "execution_count": 4,
     "metadata": {},
     "output_type": "execute_result"
    }
   ],
   "source": [
    "# Query tables\n",
    "\"\"\"\n",
    "# Graduation Rate and Outcomes 2019\n",
    "database_path = 'gradrate_2019/GRAD_RATE_AND_OUTCOMES_2019.mdb'\n",
    "out_tables = mdb_to_pandas(database_path)\n",
    "table_names = list(out_tables.keys())\n",
    "df_grad_rate_19 = out_tables['GRAD_RATE_AND_OUTCOMES_2019']\n",
    "\n",
    "print('-------')\n",
    "print('\\ntable names = ', table_names)\n",
    "print('\\ntable columns = ', df_grad_rate_19.columns)\n",
    "print('\\ntable head = ', df_grad_rate_19.head())\n",
    "print('unique nrc_desc', df_grad_rate_19['nrc_desc'].unique())\n",
    "print('unique subgroup_name', df_grad_rate_19['subgroup_name'])\n",
    "\"\"\"\n",
    "\"\"\"\n",
    "# Graduation Rate and Outcomes 2018\n",
    "database_path = 'gradrate_2018/GRAD_RATE_AND_OUTCOMES_2018.mdb'\n",
    "out_tables = mdb_to_pandas(database_path)\n",
    "table_names = list(out_tables.keys())\n",
    "df_grad_rate_18 = out_tables['GRAD_RATE_AND_OUTCOMES_2018']\n",
    "\n",
    "print('-------')\n",
    "print('\\ntable names = ', table_names)\n",
    "print('\\ntable columns = ', df_grad_rate_18.columns)\n",
    "print('\\ntable head = ', df_grad_rate_18.head())\n",
    "\n",
    "# Graduation Rate and Outcomes 2017\n",
    "database_path = 'gradrate_2017/GRAD_RATE_AND_OUTCOMES_2017.mdb'\n",
    "out_tables = mdb_to_pandas(database_path)\n",
    "table_names = list(out_tables.keys())\n",
    "df_grad_rate_17 = out_tables['GRAD_RATE_AND_OUTCOMES_2017']\n",
    "\n",
    "print('-------')\n",
    "print('\\ntable names = ', table_names)\n",
    "print('\\ntable columns = ', df_grad_rate_17.columns)\n",
    "print('\\ntable head = ', df_grad_rate_17.head())\n",
    "\n",
    "# Graduation Rate and Outcomes 2016\n",
    "database_path = 'gradrate_2016/GRAD_RATE_AND_OUTCOMES_2016.mdb'\n",
    "out_tables = mdb_to_pandas(database_path)\n",
    "table_names = list(out_tables.keys())\n",
    "df_grad_rate_16 = out_tables['GRAD_RATE_AND_OUTCOMES_2016']\n",
    "\n",
    "print('-------')\n",
    "print('\\ntable names = ', table_names)\n",
    "print('\\ntable columns = ', df_grad_rate_16.columns)\n",
    "print('\\ntable head = ', df_grad_rate_16.head())\n",
    "\n",
    "# Graduation Rate and Outcomes 2015\n",
    "database_path = 'gradrate_2015/GRAD_RATE_AND_OUTCOMES_2015.mdb'\n",
    "out_tables = mdb_to_pandas(database_path)\n",
    "table_names = list(out_tables.keys())\n",
    "df_grad_rate_15 = out_tables['GRAD_RATE_AND_OUTCOMES_2015']\n",
    "\n",
    "print('-------')\n",
    "print('\\ntable names = ', table_names)\n",
    "print('\\ntable columns = ', df_grad_rate_15.columns)\n",
    "print('\\ntable head = ', df_grad_rate_15.head())\n",
    "\n",
    "\n",
    "# Report Card Staff Qualifications 2019\n",
    "database_path = '../Data/SRC2019_20200703.mdb'\n",
    "out_tables = mdb_to_pandas(database_path)\n",
    "table_names = list(out_tables.keys())\n",
    "df_staff_qualifications_19_20 = out_tables['Staff Qualifications']\n",
    "\n",
    "print('-------')\n",
    "print('\\ntable names = ', table_names)\n",
    "print('\\ntable columns = ', df_staff_qualifications_19_20.columns)\n",
    "print('\\ntable head = ', df_staff_qualifications_19_20.head())\n",
    "\n",
    "df_staff_qualifications_19_20.to_pickle('../Data/df_staff_qualifications_19_20.pkl')\n",
    "\n",
    "# Report Card Staff Qualifications 2018\n",
    "database_path = 'SRC2018/SRC2018_20190627.mdb'\n",
    "out_tables = mdb_to_pandas(database_path)\n",
    "table_names = list(out_tables.keys())\n",
    "df_staff_qualifications_18_19 = out_tables['Staff Qualifications']\n",
    "\n",
    "print('-------')\n",
    "print('\\ntable names = ', table_names)\n",
    "print('\\ntable columns = ', df_staff_qualifications_18_19.columns)\n",
    "print('\\ntable head = ', df_staff_qualifications_18_19.head())\n",
    "\n",
    "# Report Card Staff Qualifications 2017\n",
    "database_path = 'SRC2017/SRC2017GroupIIRelease.mdb'\n",
    "out_tables = mdb_to_pandas(database_path)\n",
    "table_names = list(out_tables.keys())\n",
    "df_staff_qualifications_17 = out_tables['Staff']\n",
    "\n",
    "print('-------')\n",
    "print('\\ntable names = ', table_names)\n",
    "print('\\ntable columns = ', df_staff_qualifications_17.columns)\n",
    "print('\\ntable head = ', df_staff_qualifications_17.head())\n",
    "\n",
    "# Report Card Staff Qualifications 2016\n",
    "database_path = 'SRC2016/SRC2016_GroupIII.mdb'\n",
    "out_tables = mdb_to_pandas(database_path)\n",
    "table_names = list(out_tables.keys())\n",
    "df_staff_qualifications_16 = out_tables['Staff']\n",
    "\n",
    "print('-------')\n",
    "print('\\ntable names = ', table_names)\n",
    "print('\\ntable columns = ', df_staff_qualifications_16.columns)\n",
    "print('\\ntable head = ', df_staff_qualifications_16.head())\n",
    "\n",
    "# Report Card Staff Qualifications 2015\n",
    "database_path = 'SRC2015/SRC2015.mdb'\n",
    "out_tables = mdb_to_pandas(database_path)\n",
    "table_names = list(out_tables.keys())\n",
    "df_staff_qualifications_15 = out_tables['Staff']\n",
    "\n",
    "print('-------')\n",
    "print('\\ntable names = ', table_names)\n",
    "print('\\ntable columns = ', df_staff_qualifications_15.columns)\n",
    "print('\\ntable head = ', df_staff_qualifications_15.head())\n",
    "\"\"\""
   ]
  },
  {
   "cell_type": "code",
   "execution_count": 5,
   "metadata": {
    "collapsed": true,
    "jupyter": {
     "outputs_hidden": true
    }
   },
   "outputs": [
    {
     "name": "stdout",
     "output_type": "stream",
     "text": [
      "ACC EM Chronic Absenteeism <_io.StringIO object at 0x117e51b90>\n"
     ]
    },
    {
     "name": "stderr",
     "output_type": "stream",
     "text": [
      "/Users/dave/src/CSE6242/.venv/lib/python3.7/site-packages/IPython/core/magic.py:187: DtypeWarning: Columns (14,15) have mixed types.Specify dtype option on import or set low_memory=False.\n",
      "  call = lambda f, *a, **k: f(*a, **k)\n"
     ]
    },
    {
     "name": "stdout",
     "output_type": "stream",
     "text": [
      "ACC EM Combined Composite Growth <_io.StringIO object at 0x117e515f0>\n",
      "ACC EM Composite Performance <_io.StringIO object at 0x117e51870>\n"
     ]
    },
    {
     "name": "stderr",
     "output_type": "stream",
     "text": [
      "/Users/dave/src/CSE6242/.venv/lib/python3.7/site-packages/IPython/core/magic.py:187: DtypeWarning: Columns (5,7,8,10,12,13,14) have mixed types.Specify dtype option on import or set low_memory=False.\n",
      "  call = lambda f, *a, **k: f(*a, **k)\n"
     ]
    },
    {
     "name": "stdout",
     "output_type": "stream",
     "text": [
      "ACC EM ELP <_io.StringIO object at 0x117e51a50>\n"
     ]
    },
    {
     "name": "stderr",
     "output_type": "stream",
     "text": [
      "/Users/dave/src/CSE6242/.venv/lib/python3.7/site-packages/IPython/core/magic.py:187: DtypeWarning: Columns (10) have mixed types.Specify dtype option on import or set low_memory=False.\n",
      "  call = lambda f, *a, **k: f(*a, **k)\n"
     ]
    },
    {
     "name": "stdout",
     "output_type": "stream",
     "text": [
      "ACC EM Growth <_io.StringIO object at 0x117e51f50>\n"
     ]
    },
    {
     "name": "stderr",
     "output_type": "stream",
     "text": [
      "/Users/dave/src/CSE6242/.venv/lib/python3.7/site-packages/IPython/core/magic.py:187: DtypeWarning: Columns (9) have mixed types.Specify dtype option on import or set low_memory=False.\n",
      "  call = lambda f, *a, **k: f(*a, **k)\n"
     ]
    },
    {
     "name": "stdout",
     "output_type": "stream",
     "text": [
      "ACC EM Participation Rate <_io.StringIO object at 0x117e515f0>\n",
      "ACC EM Progress <_io.StringIO object at 0x117e519b0>\n"
     ]
    },
    {
     "name": "stderr",
     "output_type": "stream",
     "text": [
      "/Users/dave/src/CSE6242/.venv/lib/python3.7/site-packages/IPython/core/magic.py:187: DtypeWarning: Columns (14,15,17) have mixed types.Specify dtype option on import or set low_memory=False.\n",
      "  call = lambda f, *a, **k: f(*a, **k)\n"
     ]
    },
    {
     "name": "stdout",
     "output_type": "stream",
     "text": [
      "ACC HS CCCR <_io.StringIO object at 0x117e51870>\n",
      "ACC HS Chronic Absenteeism <_io.StringIO object at 0x117e515f0>\n",
      "ACC HS Combined Composite Grad <_io.StringIO object at 0x117e51910>\n",
      "ACC HS Composite Performance <_io.StringIO object at 0x117e51d70>\n"
     ]
    },
    {
     "name": "stderr",
     "output_type": "stream",
     "text": [
      "/Users/dave/src/CSE6242/.venv/lib/python3.7/site-packages/IPython/core/magic.py:187: DtypeWarning: Columns (5) have mixed types.Specify dtype option on import or set low_memory=False.\n",
      "  call = lambda f, *a, **k: f(*a, **k)\n"
     ]
    },
    {
     "name": "stdout",
     "output_type": "stream",
     "text": [
      "ACC HS ELP <_io.StringIO object at 0x117e51af0>\n",
      "ACC HS Graduation Rate <_io.StringIO object at 0x11b0e9050>\n"
     ]
    },
    {
     "name": "stderr",
     "output_type": "stream",
     "text": [
      "/Users/dave/src/CSE6242/.venv/lib/python3.7/site-packages/IPython/core/magic.py:187: DtypeWarning: Columns (13,14,17) have mixed types.Specify dtype option on import or set low_memory=False.\n",
      "  call = lambda f, *a, **k: f(*a, **k)\n"
     ]
    },
    {
     "name": "stdout",
     "output_type": "stream",
     "text": [
      "ACC HS Participation Rate <_io.StringIO object at 0x117e517d0>\n",
      "ACC HS Progress <_io.StringIO object at 0x117e51af0>\n"
     ]
    },
    {
     "name": "stderr",
     "output_type": "stream",
     "text": [
      "/Users/dave/src/CSE6242/.venv/lib/python3.7/site-packages/IPython/core/magic.py:187: DtypeWarning: Columns (13,14) have mixed types.Specify dtype option on import or set low_memory=False.\n",
      "  call = lambda f, *a, **k: f(*a, **k)\n"
     ]
    },
    {
     "name": "stdout",
     "output_type": "stream",
     "text": [
      "Accountability Status <_io.StringIO object at 0x11b0e9230>\n",
      "Accountability Status by Subgroup <_io.StringIO object at 0x11b0e92d0>\n",
      "Annual EM ELA <_io.StringIO object at 0x11b0e9190>\n",
      "Annual EM MATH <_io.StringIO object at 0x11b0e94b0>\n",
      "Annual EM SCIENCE <_io.StringIO object at 0x11b0e9550>\n",
      "Annual NYSAA <_io.StringIO object at 0x11b0e95f0>\n",
      "Annual NYSESLAT <_io.StringIO object at 0x11b0e94b0>\n",
      "BOCES and N/RC <_io.StringIO object at 0x11b0e9730>\n",
      "Expenditures per Pupil <_io.StringIO object at 0x11b0e97d0>\n",
      "Institution Grouping <_io.StringIO object at 0x11b0e95f0>\n",
      "Staff Qualifications <_io.StringIO object at 0x11b0e9870>\n",
      "Total Cohort Regents Exams <_io.StringIO object at 0x11b0e9910>\n",
      "ACC EM Recently Arrived ELLs <_io.StringIO object at 0x11b0e9a50>\n",
      "Accountability Levels <_io.StringIO object at 0x11b0e9870>\n"
     ]
    },
    {
     "name": "stderr",
     "output_type": "stream",
     "text": [
      "/Users/dave/src/CSE6242/.venv/lib/python3.7/site-packages/IPython/core/magic.py:187: DtypeWarning: Columns (6) have mixed types.Specify dtype option on import or set low_memory=False.\n",
      "  call = lambda f, *a, **k: f(*a, **k)\n"
     ]
    },
    {
     "name": "stdout",
     "output_type": "stream",
     "text": [
      "Annual Regents Exams <_io.StringIO object at 0x11b0e9370>\n",
      "CPU times: user 9.67 s, sys: 3.98 s, total: 13.6 s\n",
      "Wall time: 3min 40s\n"
     ]
    }
   ],
   "source": [
    "%%time\n",
    "# Report Card Staff Qualifications 2019\n",
    "database_path = '../Data/SRC2019_20200703.mdb'\n",
    "out_tables = mdb_to_pandas(database_path)\n",
    "table_names = list(out_tables.keys())"
   ]
  },
  {
   "cell_type": "markdown",
   "metadata": {},
   "source": [
    "## Tables List\n",
    "Here are the tables in the 2019 data. Anything table that contains data types that were note cleanly inferred (i.e. has columns with mixed data types) are notated with a hyphen and the word \"Mixed\".\n",
    "\n",
    "* ACC EM Chronic Absenteeism - Mixed \n",
    "# ACC EM Combined Composite Growth \n",
    "* ACC EM Composite Performance - Mixed\n",
    "* ACC EM ELP - Mixed\n",
    "* ACC EM Growth - Mixed\n",
    "* ACC EM Participation Rate\n",
    "* ACC EM Progress- Mixed\n",
    "* ACC HS CCCR\n",
    "* ACC HS Chronic Absenteeism \n",
    "* ACC HS Combined Composite Grad \n",
    "* ACC HS Composite Performance - Mixed\n",
    "* ACC HS ELP \n",
    "* ACC HS Graduation Rate - Mixed\n",
    "* ACC HS Participation Rate \n",
    "* ACC HS Progress - Mixed\n",
    "* Accountability Status \n",
    "* Accountability Status by Subgroup \n",
    "* Annual EM ELA \n",
    "* Annual EM MATH \n",
    "* Annual EM SCIENCE \n",
    "* Annual NYSAA \n",
    "* Annual NYSESLAT \n",
    "* BOCES and N/RC \n",
    "* Expenditures per Pupil \n",
    "* Institution Grouping \n",
    "* Staff Qualifications \n",
    "* Total Cohort Regents Exams \n",
    "* ACC EM Recently Arrived ELLs \n",
    "* Accountability Levels - Mixed\n",
    "* Annual Regents Exams"
   ]
  },
  {
   "cell_type": "code",
   "execution_count": 15,
   "metadata": {},
   "outputs": [
    {
     "name": "stdout",
     "output_type": "stream",
     "text": [
      "SRC2000.mdb\n",
      "SRC2001.mdb\n",
      "SRC2002.mdb\n",
      "SRC2003.mdb\n",
      "SRC2004.mdb\n",
      "SRC2005.mdb\n",
      "SRC2006.mdb\n",
      "SRC2007.mdb\n",
      "SRC2008.mdb\n",
      "SRC2009.mdb\n",
      "SRC2010.mdb\n",
      "SRC2011.mdb\n",
      "SRC2012.mdb\n",
      "SRC2013.mdb\n",
      "SRC2014.mdb\n",
      "SRC2015.mdb\n",
      "SRC2016.mdb\n",
      "SRC2017.mdb\n",
      "SRC2018.mdb\n",
      "SRC2019.mdb\n"
     ]
    }
   ],
   "source": [
    "years = ['2000', '2001', '2002', '2003', '2004', '2005', '2006', '2007', '2008',\\\n",
    "         '2009', '2010', '2011', '2012', '2013', '2014', '2015', '2016', '2017', '2018', '2019']\n",
    "\n",
    "file_names = out_tables.keys()\n",
    "\n",
    "for year in years:\n",
    "    mdb_name = \"SRC\" + year + \".mdb\"\n",
    "    print(mdb_name)\n",
    "    "
   ]
  },
  {
   "cell_type": "code",
   "execution_count": 9,
   "metadata": {},
   "outputs": [
    {
     "ename": "KeyError",
     "evalue": "'Staff Qualifications'",
     "output_type": "error",
     "traceback": [
      "\u001b[0;31m---------------------------------------------------------------------------\u001b[0m",
      "\u001b[0;31mKeyError\u001b[0m                                  Traceback (most recent call last)",
      "\u001b[0;32m<ipython-input-9-3cadbdc9169a>\u001b[0m in \u001b[0;36m<module>\u001b[0;34m\u001b[0m\n\u001b[1;32m      3\u001b[0m \u001b[0mout_tables\u001b[0m \u001b[0;34m=\u001b[0m \u001b[0mmdb_to_pandas\u001b[0m\u001b[0;34m(\u001b[0m\u001b[0mdatabase_path\u001b[0m\u001b[0;34m)\u001b[0m\u001b[0;34m\u001b[0m\u001b[0;34m\u001b[0m\u001b[0m\n\u001b[1;32m      4\u001b[0m \u001b[0mtable_names\u001b[0m \u001b[0;34m=\u001b[0m \u001b[0mlist\u001b[0m\u001b[0;34m(\u001b[0m\u001b[0mout_tables\u001b[0m\u001b[0;34m.\u001b[0m\u001b[0mkeys\u001b[0m\u001b[0;34m(\u001b[0m\u001b[0;34m)\u001b[0m\u001b[0;34m)\u001b[0m\u001b[0;34m\u001b[0m\u001b[0;34m\u001b[0m\u001b[0m\n\u001b[0;32m----> 5\u001b[0;31m \u001b[0mdf_staff_qualifications_19_20\u001b[0m \u001b[0;34m=\u001b[0m \u001b[0mout_tables\u001b[0m\u001b[0;34m[\u001b[0m\u001b[0;34m'Staff Qualifications'\u001b[0m\u001b[0;34m]\u001b[0m\u001b[0;34m\u001b[0m\u001b[0;34m\u001b[0m\u001b[0m\n\u001b[0m\u001b[1;32m      6\u001b[0m \u001b[0;34m\u001b[0m\u001b[0m\n\u001b[1;32m      7\u001b[0m \u001b[0mprint\u001b[0m\u001b[0;34m(\u001b[0m\u001b[0;34m'-------'\u001b[0m\u001b[0;34m)\u001b[0m\u001b[0;34m\u001b[0m\u001b[0;34m\u001b[0m\u001b[0m\n",
      "\u001b[0;31mKeyError\u001b[0m: 'Staff Qualifications'"
     ]
    }
   ],
   "source": [
    "\n",
    "df_staff_qualifications_19_20 = out_tables['Staff Qualifications']\n",
    "\n",
    "print('-------')\n",
    "print('\\ntable names = ', table_names)\n",
    "print('\\ntable columns = ', df_staff_qualifications_19_20.columns)\n",
    "print('\\ntable head = ', df_staff_qualifications_19_20.head())\n",
    "\n",
    "df_staff_qualifications_19_20.to_pickle('../Data/df_staff_qualifications_19_20.pkl')"
   ]
  },
  {
   "cell_type": "code",
   "execution_count": 16,
   "metadata": {},
   "outputs": [
    {
     "ename": "NameError",
     "evalue": "name 'df_staff_qualifications' is not defined",
     "output_type": "error",
     "traceback": [
      "\u001b[0;31m---------------------------------------------------------------------------\u001b[0m",
      "\u001b[0;31mNameError\u001b[0m                                 Traceback (most recent call last)",
      "\u001b[0;32m<ipython-input-16-6730d018fca5>\u001b[0m in \u001b[0;36m<module>\u001b[0;34m\u001b[0m\n\u001b[0;32m----> 1\u001b[0;31m \u001b[0mdf_staff_qualifications\u001b[0m\u001b[0;34m.\u001b[0m\u001b[0mhead\u001b[0m\u001b[0;34m(\u001b[0m\u001b[0;34m)\u001b[0m\u001b[0;34m\u001b[0m\u001b[0;34m\u001b[0m\u001b[0m\n\u001b[0m",
      "\u001b[0;31mNameError\u001b[0m: name 'df_staff_qualifications' is not defined"
     ]
    }
   ],
   "source": [
    "# Report Card Staff Qualifications 2018\n",
    "database_path = 'SRC2018/SRC2018_20190627.mdb'\n",
    "out_tables = mdb_to_pandas(database_path)\n",
    "table_names = list(out_tables.keys())\n",
    "df_staff_qualifications_18_19 = out_tables['Staff Qualifications']\n",
    "\n",
    "print('-------')\n",
    "print('\\ntable names = ', table_names)\n",
    "print('\\ntable columns = ', df_staff_qualifications_18_19.columns)\n",
    "print('\\ntable head = ', df_staff_qualifications_18_19.head())"
   ]
  },
  {
   "cell_type": "code",
   "execution_count": null,
   "metadata": {},
   "outputs": [],
   "source": [
    "# Report Card Staff Qualifications 2017\n",
    "database_path = 'SRC2017/SRC2017GroupIIRelease.mdb'\n",
    "out_tables = mdb_to_pandas(database_path)\n",
    "table_names = list(out_tables.keys())\n",
    "df_staff_qualifications_17 = out_tables['Staff']\n",
    "\n",
    "print('-------')\n",
    "print('\\ntable names = ', table_names)\n",
    "print('\\ntable columns = ', df_staff_qualifications_17.columns)\n",
    "print('\\ntable head = ', df_staff_qualifications_17.head())"
   ]
  },
  {
   "cell_type": "code",
   "execution_count": null,
   "metadata": {},
   "outputs": [],
   "source": [
    "# Report Card Staff Qualifications 2016\n",
    "database_path = 'SRC2016/SRC2016_GroupIII.mdb'\n",
    "out_tables = mdb_to_pandas(database_path)\n",
    "table_names = list(out_tables.keys())\n",
    "df_staff_qualifications_16 = out_tables['Staff']\n",
    "\n",
    "print('-------')\n",
    "print('\\ntable names = ', table_names)\n",
    "print('\\ntable columns = ', df_staff_qualifications_16.columns)\n",
    "print('\\ntable head = ', df_staff_qualifications_16.head())"
   ]
  },
  {
   "cell_type": "code",
   "execution_count": 18,
   "metadata": {},
   "outputs": [
    {
     "ename": "KeyError",
     "evalue": "'Staff'",
     "output_type": "error",
     "traceback": [
      "\u001b[0;31m---------------------------------------------------------------------------\u001b[0m",
      "\u001b[0;31mKeyError\u001b[0m                                  Traceback (most recent call last)",
      "\u001b[0;32m<ipython-input-18-46a50abbdbaf>\u001b[0m in \u001b[0;36m<module>\u001b[0;34m\u001b[0m\n\u001b[1;32m      3\u001b[0m \u001b[0mout_tables\u001b[0m \u001b[0;34m=\u001b[0m \u001b[0mmdb_to_pandas\u001b[0m\u001b[0;34m(\u001b[0m\u001b[0mdatabase_path\u001b[0m\u001b[0;34m)\u001b[0m\u001b[0;34m\u001b[0m\u001b[0;34m\u001b[0m\u001b[0m\n\u001b[1;32m      4\u001b[0m \u001b[0mtable_names\u001b[0m \u001b[0;34m=\u001b[0m \u001b[0mlist\u001b[0m\u001b[0;34m(\u001b[0m\u001b[0mout_tables\u001b[0m\u001b[0;34m.\u001b[0m\u001b[0mkeys\u001b[0m\u001b[0;34m(\u001b[0m\u001b[0;34m)\u001b[0m\u001b[0;34m)\u001b[0m\u001b[0;34m\u001b[0m\u001b[0;34m\u001b[0m\u001b[0m\n\u001b[0;32m----> 5\u001b[0;31m \u001b[0mdf_staff_qualifications_15\u001b[0m \u001b[0;34m=\u001b[0m \u001b[0mout_tables\u001b[0m\u001b[0;34m[\u001b[0m\u001b[0;34m'Staff'\u001b[0m\u001b[0;34m]\u001b[0m\u001b[0;34m\u001b[0m\u001b[0;34m\u001b[0m\u001b[0m\n\u001b[0m\u001b[1;32m      6\u001b[0m \u001b[0;34m\u001b[0m\u001b[0m\n\u001b[1;32m      7\u001b[0m \u001b[0mprint\u001b[0m\u001b[0;34m(\u001b[0m\u001b[0;34m'-------'\u001b[0m\u001b[0;34m)\u001b[0m\u001b[0;34m\u001b[0m\u001b[0;34m\u001b[0m\u001b[0m\n",
      "\u001b[0;31mKeyError\u001b[0m: 'Staff'"
     ]
    }
   ],
   "source": [
    "# Report Card Staff Qualifications 2015\n",
    "database_path = 'SRC2015/SRC2015.mdb'\n",
    "out_tables = mdb_to_pandas(database_path)\n",
    "table_names = list(out_tables.keys())\n",
    "df_staff_qualifications_15 = out_tables['Staff']\n",
    "\n",
    "print('-------')\n",
    "print('\\ntable names = ', table_names)\n",
    "print('\\ntable columns = ', df_staff_qualifications_15.columns)\n",
    "print('\\ntable head = ', df_staff_qualifications_15.head())"
   ]
  },
  {
   "cell_type": "code",
   "execution_count": null,
   "metadata": {},
   "outputs": [],
   "source": []
  }
 ],
 "metadata": {
  "kernelspec": {
   "display_name": "Python 3",
   "language": "python",
   "name": "python3"
  },
  "language_info": {
   "codemirror_mode": {
    "name": "ipython",
    "version": 3
   },
   "file_extension": ".py",
   "mimetype": "text/x-python",
   "name": "python",
   "nbconvert_exporter": "python",
   "pygments_lexer": "ipython3",
   "version": "3.7.8"
  }
 },
 "nbformat": 4,
 "nbformat_minor": 4
}
