{
 "cells": [
  {
   "cell_type": "code",
   "execution_count": 1,
   "metadata": {},
   "outputs": [],
   "source": [
    "# import statements\n",
    "import pandas as pd\n",
    "import numpy as np\n",
    "import pickle\n",
    "import sys\n",
    "sys.setrecursionlimit(10000)\n",
    "import sys, subprocess, os\n",
    "from io import StringIO\n",
    "import pandas as pd\n",
    "verbose = True"
   ]
  },
  {
   "cell_type": "code",
   "execution_count": 2,
   "metadata": {},
   "outputs": [
    {
     "name": "stderr",
     "output_type": "stream",
     "text": [
      "/Library/Frameworks/Python.framework/Versions/3.6/lib/python3.6/site-packages/IPython/core/interactiveshell.py:3051: DtypeWarning: Columns (5,7) have mixed types.Specify dtype option on import or set low_memory=False.\n",
      "  interactivity=interactivity, compiler=compiler, result=result)\n",
      "/Library/Frameworks/Python.framework/Versions/3.6/lib/python3.6/site-packages/IPython/core/interactiveshell.py:3051: DtypeWarning: Columns (7) have mixed types.Specify dtype option on import or set low_memory=False.\n",
      "  interactivity=interactivity, compiler=compiler, result=result)\n"
     ]
    }
   ],
   "source": [
    "##\n",
    "# import data \n",
    "##\n",
    "\n",
    "#import grad rate 2019\n",
    "grad_2019 = pd.read_csv(\"/Users/nickorangio/NYC_hs_grad/gradrate/GRAD_RATE_AND_OUTCOMES_2019.csv\")\n",
    "\n",
    "#import grad rate 2018 \n",
    "grad_2018 = pd.read_csv(\"/Users/nickorangio/NYC_hs_grad/gradrate_2018/GRAD_RATE_AND_OUTCOMES_2018.csv\")\n",
    "\n",
    "#import grad rate 2017\n",
    "grad_2017 = pd.read_csv(\"/Users/nickorangio/NYC_hs_grad/gradrate_2017/GRAD_RATE_AND_OUTCOMES_2017.csv\")\n",
    "\n",
    "#import grad rate 2016\n",
    "grad_2016 = pd.read_csv(\"/Users/nickorangio/NYC_hs_grad/gradrate_2016/GRAD_RATE_AND_OUTCOMES_2016.csv\")\n",
    "\n",
    "#import grad rate 2015 \n",
    "grad_2015 = pd.read_csv(\"/Users/nickorangio/NYC_hs_grad/gradrate_2015/GRAD_RATE_AND_OUTCOMES_2015.csv\")\n",
    "\n",
    "#import pickles, currently not functional due to recursion error \n",
    "#pickle_grad = pd.read_pickle(r\"/Users/nickorangio/NYC_hs_grad/df_grad_rate_19.pkl\")\n",
    "#staff_pickle = pd.read_pickle(\"/Users/nickorangio/NYC_hs_grad/df_staff_qualifications_18.pkl\")"
   ]
  },
  {
   "cell_type": "code",
   "execution_count": 3,
   "metadata": {},
   "outputs": [
    {
     "data": {
      "text/html": [
       "<div>\n",
       "<style scoped>\n",
       "    .dataframe tbody tr th:only-of-type {\n",
       "        vertical-align: middle;\n",
       "    }\n",
       "\n",
       "    .dataframe tbody tr th {\n",
       "        vertical-align: top;\n",
       "    }\n",
       "\n",
       "    .dataframe thead th {\n",
       "        text-align: right;\n",
       "    }\n",
       "</style>\n",
       "<table border=\"1\" class=\"dataframe\">\n",
       "  <thead>\n",
       "    <tr style=\"text-align: right;\">\n",
       "      <th></th>\n",
       "      <th>report_school_year</th>\n",
       "      <th>aggregation_index</th>\n",
       "      <th>aggregation_type</th>\n",
       "      <th>aggregation_code</th>\n",
       "      <th>aggregation_name</th>\n",
       "      <th>entity_inactive_date</th>\n",
       "      <th>lea_beds</th>\n",
       "      <th>lea_name</th>\n",
       "      <th>nrc_code</th>\n",
       "      <th>nrc_desc</th>\n",
       "      <th>...</th>\n",
       "      <th>reg_adv_cnt</th>\n",
       "      <th>reg_adv_pct</th>\n",
       "      <th>non_diploma_credential_cnt</th>\n",
       "      <th>non_diploma_credential_pct</th>\n",
       "      <th>still_enr_cnt</th>\n",
       "      <th>still_enr_pct</th>\n",
       "      <th>ged_cnt</th>\n",
       "      <th>ged_pct</th>\n",
       "      <th>dropout_cnt</th>\n",
       "      <th>dropout_pct</th>\n",
       "    </tr>\n",
       "  </thead>\n",
       "  <tbody>\n",
       "    <tr>\n",
       "      <th>0</th>\n",
       "      <td>2018-19</td>\n",
       "      <td>0</td>\n",
       "      <td>Statewide</td>\n",
       "      <td>0</td>\n",
       "      <td>All Districts and Charters</td>\n",
       "      <td>NaN</td>\n",
       "      <td>NaN</td>\n",
       "      <td>NaN</td>\n",
       "      <td>NaN</td>\n",
       "      <td>NaN</td>\n",
       "      <td>...</td>\n",
       "      <td>68331</td>\n",
       "      <td>33%</td>\n",
       "      <td>2756</td>\n",
       "      <td>1%</td>\n",
       "      <td>5417</td>\n",
       "      <td>3%</td>\n",
       "      <td>1374</td>\n",
       "      <td>1%</td>\n",
       "      <td>18866</td>\n",
       "      <td>9%</td>\n",
       "    </tr>\n",
       "    <tr>\n",
       "      <th>1</th>\n",
       "      <td>2018-19</td>\n",
       "      <td>0</td>\n",
       "      <td>Statewide</td>\n",
       "      <td>0</td>\n",
       "      <td>All Districts and Charters</td>\n",
       "      <td>NaN</td>\n",
       "      <td>NaN</td>\n",
       "      <td>NaN</td>\n",
       "      <td>NaN</td>\n",
       "      <td>NaN</td>\n",
       "      <td>...</td>\n",
       "      <td>36981</td>\n",
       "      <td>37%</td>\n",
       "      <td>909</td>\n",
       "      <td>1%</td>\n",
       "      <td>2006</td>\n",
       "      <td>2%</td>\n",
       "      <td>541</td>\n",
       "      <td>1%</td>\n",
       "      <td>7442</td>\n",
       "      <td>7%</td>\n",
       "    </tr>\n",
       "    <tr>\n",
       "      <th>2</th>\n",
       "      <td>2018-19</td>\n",
       "      <td>0</td>\n",
       "      <td>Statewide</td>\n",
       "      <td>0</td>\n",
       "      <td>All Districts and Charters</td>\n",
       "      <td>NaN</td>\n",
       "      <td>NaN</td>\n",
       "      <td>NaN</td>\n",
       "      <td>NaN</td>\n",
       "      <td>NaN</td>\n",
       "      <td>...</td>\n",
       "      <td>31350</td>\n",
       "      <td>29%</td>\n",
       "      <td>1847</td>\n",
       "      <td>2%</td>\n",
       "      <td>3411</td>\n",
       "      <td>3%</td>\n",
       "      <td>833</td>\n",
       "      <td>1%</td>\n",
       "      <td>11424</td>\n",
       "      <td>11%</td>\n",
       "    </tr>\n",
       "    <tr>\n",
       "      <th>3</th>\n",
       "      <td>2018-19</td>\n",
       "      <td>0</td>\n",
       "      <td>Statewide</td>\n",
       "      <td>0</td>\n",
       "      <td>All Districts and Charters</td>\n",
       "      <td>NaN</td>\n",
       "      <td>NaN</td>\n",
       "      <td>NaN</td>\n",
       "      <td>NaN</td>\n",
       "      <td>NaN</td>\n",
       "      <td>...</td>\n",
       "      <td>228</td>\n",
       "      <td>18%</td>\n",
       "      <td>26</td>\n",
       "      <td>2%</td>\n",
       "      <td>49</td>\n",
       "      <td>4%</td>\n",
       "      <td>17</td>\n",
       "      <td>1%</td>\n",
       "      <td>209</td>\n",
       "      <td>17%</td>\n",
       "    </tr>\n",
       "    <tr>\n",
       "      <th>4</th>\n",
       "      <td>2018-19</td>\n",
       "      <td>0</td>\n",
       "      <td>Statewide</td>\n",
       "      <td>0</td>\n",
       "      <td>All Districts and Charters</td>\n",
       "      <td>NaN</td>\n",
       "      <td>NaN</td>\n",
       "      <td>NaN</td>\n",
       "      <td>NaN</td>\n",
       "      <td>NaN</td>\n",
       "      <td>...</td>\n",
       "      <td>4329</td>\n",
       "      <td>12%</td>\n",
       "      <td>633</td>\n",
       "      <td>2%</td>\n",
       "      <td>1567</td>\n",
       "      <td>4%</td>\n",
       "      <td>342</td>\n",
       "      <td>1%</td>\n",
       "      <td>4851</td>\n",
       "      <td>13%</td>\n",
       "    </tr>\n",
       "  </tbody>\n",
       "</table>\n",
       "<p>5 rows × 37 columns</p>\n",
       "</div>"
      ],
      "text/plain": [
       "  report_school_year  aggregation_index aggregation_type  aggregation_code  \\\n",
       "0            2018-19                  0        Statewide                 0   \n",
       "1            2018-19                  0        Statewide                 0   \n",
       "2            2018-19                  0        Statewide                 0   \n",
       "3            2018-19                  0        Statewide                 0   \n",
       "4            2018-19                  0        Statewide                 0   \n",
       "\n",
       "             aggregation_name entity_inactive_date  lea_beds lea_name  \\\n",
       "0  All Districts and Charters                  NaN       NaN      NaN   \n",
       "1  All Districts and Charters                  NaN       NaN      NaN   \n",
       "2  All Districts and Charters                  NaN       NaN      NaN   \n",
       "3  All Districts and Charters                  NaN       NaN      NaN   \n",
       "4  All Districts and Charters                  NaN       NaN      NaN   \n",
       "\n",
       "   nrc_code nrc_desc  ...  reg_adv_cnt reg_adv_pct  \\\n",
       "0       NaN      NaN  ...        68331         33%   \n",
       "1       NaN      NaN  ...        36981         37%   \n",
       "2       NaN      NaN  ...        31350         29%   \n",
       "3       NaN      NaN  ...          228         18%   \n",
       "4       NaN      NaN  ...         4329         12%   \n",
       "\n",
       "   non_diploma_credential_cnt  non_diploma_credential_pct still_enr_cnt  \\\n",
       "0                        2756                          1%          5417   \n",
       "1                         909                          1%          2006   \n",
       "2                        1847                          2%          3411   \n",
       "3                          26                          2%            49   \n",
       "4                         633                          2%          1567   \n",
       "\n",
       "   still_enr_pct  ged_cnt ged_pct  dropout_cnt dropout_pct  \n",
       "0             3%     1374      1%        18866          9%  \n",
       "1             2%      541      1%         7442          7%  \n",
       "2             3%      833      1%        11424         11%  \n",
       "3             4%       17      1%          209         17%  \n",
       "4             4%      342      1%         4851         13%  \n",
       "\n",
       "[5 rows x 37 columns]"
      ]
     },
     "execution_count": 3,
     "metadata": {},
     "output_type": "execute_result"
    }
   ],
   "source": [
    "grad_2019.head()"
   ]
  },
  {
   "cell_type": "code",
   "execution_count": 4,
   "metadata": {},
   "outputs": [
    {
     "data": {
      "text/plain": [
       "Index(['report_school_year', 'aggregation_index', 'aggregation_type',\n",
       "       'aggregation_code', 'aggregation_name', 'entity_inactive_date',\n",
       "       'lea_beds', 'lea_name', 'nrc_code', 'nrc_desc', 'county_code',\n",
       "       'county_name', 'nyc_ind', 'boces_code', 'boces_name', 'membership_code',\n",
       "       'membership_key', 'membership_desc', 'subgroup_code', 'subgroup_name',\n",
       "       'enroll_cnt', 'grad_cnt', 'grad_pct', 'local_cnt', 'local_pct',\n",
       "       'reg_cnt', 'reg_pct', 'reg_adv_cnt', 'reg_adv_pct',\n",
       "       'non_diploma_credential_cnt', 'non_diploma_credential_pct',\n",
       "       'still_enr_cnt', 'still_enr_pct', 'ged_cnt', 'ged_pct', 'dropout_cnt',\n",
       "       'dropout_pct'],\n",
       "      dtype='object')"
      ]
     },
     "execution_count": 4,
     "metadata": {},
     "output_type": "execute_result"
    }
   ],
   "source": [
    "grad_2019.columns"
   ]
  },
  {
   "cell_type": "code",
   "execution_count": 5,
   "metadata": {},
   "outputs": [
    {
     "data": {
      "text/plain": [
       "Index(['REPORT_SCHOOL_YEAR', 'AGGREGATION_INDEX', 'AGGREGATION_TYPE',\n",
       "       'AGGREGATION_CODE', 'AGGREGATION_NAME', 'LEA_BEDS', 'LEA_NAME',\n",
       "       'NRC_CODE', 'NRC_DESC', 'COUNTY_CODE', 'COUNTY_NAME', 'NYC_IND',\n",
       "       'BOCES_CODE', 'BOCES_NAME', 'MEMBERSHIP_CODE', 'MEMBERSHIP_KEY',\n",
       "       'MEMBERSHIP_DESC', 'SUBGROUP_CODE', 'SUBGROUP_NAME', 'ENROLL_CNT',\n",
       "       'GRAD_CNT', 'GRAD_PCT', 'LOCAL_CNT', 'LOCAL_PCT', 'REG_CNT', 'REG_PCT',\n",
       "       'REG_ADV_CNT', 'REG_ADV_PCT', 'NON_DIPLOMA_CREDENTIAL_CNT',\n",
       "       'NON_DIPLOMA_CREDENTIAL_PCT', 'STILL_ENR_CNT', 'STILL_ENR_PCT',\n",
       "       'GED_CNT', 'GED_PCT', 'DROPOUT_CNT', 'DROPOUT_PCT'],\n",
       "      dtype='object')"
      ]
     },
     "execution_count": 5,
     "metadata": {},
     "output_type": "execute_result"
    }
   ],
   "source": [
    "grad_2018.columns"
   ]
  },
  {
   "cell_type": "code",
   "execution_count": 6,
   "metadata": {},
   "outputs": [
    {
     "data": {
      "text/plain": [
       "Index(['REPORT_SCHOOL_YEAR', 'AGGREGATION_INDEX', 'AGGREGATION_TYPE',\n",
       "       'AGGREGATION_CODE', 'AGGREGATION_NAME', 'LEA_BEDS', 'LEA_NAME',\n",
       "       'NRC_CODE', 'NRC_DESC', 'COUNTY_CODE', 'COUNTY_NAME', 'NYC_IND',\n",
       "       'BOCES_CODE', 'BOCES_NAME', 'MEMBERSHIP_CODE', 'MEMBERSHIP_KEY',\n",
       "       'MEMBERSHIP_DESC', 'SUBGROUP_CODE', 'SUBGROUP_NAME', 'ENROLL_CNT',\n",
       "       'GRAD_CNT', 'GRAD_PCT', 'LOCAL_CNT', 'LOCAL_PCT', 'REG_CNT', 'REG_PCT',\n",
       "       'REG_ADV_CNT', 'REG_ADV_PCT', 'NON_DIPLOMA_CREDENTIAL_CNT',\n",
       "       'NON_DIPLOMA_CREDENTIAL_PCT', 'STILL_ENR_CNT', 'STILL_ENR_PCT',\n",
       "       'GED_CNT', 'GED_PCT', 'DROPOUT_CNT', 'DROPOUT_PCT'],\n",
       "      dtype='object')"
      ]
     },
     "execution_count": 6,
     "metadata": {},
     "output_type": "execute_result"
    }
   ],
   "source": [
    "grad_2017.columns"
   ]
  },
  {
   "cell_type": "code",
   "execution_count": 7,
   "metadata": {},
   "outputs": [
    {
     "data": {
      "text/plain": [
       "Index(['REPORT_SCHOOL_YEAR', 'AGGREGATION_INDEX', 'AGGREGATION_TYPE',\n",
       "       'AGGREGATION_CODE', 'AGGREGATION_NAME', 'ENTITY_INACTIVE_DATE',\n",
       "       'LEA_BEDS', 'LEA_NAME', 'NRC_CODE', 'NRC_DESC', 'COUNTY_CODE',\n",
       "       'COUNTY_NAME', 'NYC_IND', 'BOCES_CODE', 'BOCES_NAME', 'MEMBERSHIP_CODE',\n",
       "       'MEMBERSHIP_KEY', 'MEMBERSHIP_DESC', 'SUBGROUP_CODE', 'SUBGROUP_NAME',\n",
       "       'ENROLL_CNT', 'GRAD_CNT', 'GRAD_PCT', 'LOCAL_CNT', 'LOCAL_PCT',\n",
       "       'REG_CNT', 'REG_PCT', 'REG_ADV_CNT', 'REG_ADV_PCT',\n",
       "       'NON_DIPLOMA_CREDENTIAL_CNT', 'NON_DIPLOMA_CREDENTIAL_PCT',\n",
       "       'STILL_ENR_CNT', 'STILL_ENR_PCT', 'GED_CNT', 'GED_PCT', 'DROPOUT_CNT',\n",
       "       'DROPOUT_PCT'],\n",
       "      dtype='object')"
      ]
     },
     "execution_count": 7,
     "metadata": {},
     "output_type": "execute_result"
    }
   ],
   "source": [
    "grad_2016.columns"
   ]
  },
  {
   "cell_type": "code",
   "execution_count": 8,
   "metadata": {},
   "outputs": [
    {
     "data": {
      "text/plain": [
       "Index(['REPORT_SCHOOL_YEAR', 'AGGREGATION_INDEX', 'AGGREGATION_TYPE',\n",
       "       'AGGREGATION_CODE', 'AGGREGATION_NAME', 'LEA_BEDS', 'LEA_NAME',\n",
       "       'NRC_CODE', 'NRC_DESC', 'COUNTY_CODE', 'COUNTY_NAME', 'NYC_IND',\n",
       "       'BOCES_CODE', 'BOCES_NAME', 'MEMBERSHIP_CODE', 'MEMBERSHIP_KEY',\n",
       "       'MEMBERSHIP_DESC', 'SUBGROUP_CODE', 'SUBGROUP_NAME', 'ENROLL_CNT',\n",
       "       'GRAD_CNT', 'GRAD_PCT', 'LOCAL_CNT', 'LOCAL_PCT', 'REG_CNT', 'REG_PCT',\n",
       "       'REG_ADV_CNT', 'REG_ADV_PCT', 'NON_DIPLOMA_CREDENTIAL_CNT',\n",
       "       'NON_DIPLOMA_CREDENTIAL_PCT', 'STILL_ENR_CNT', 'STILL_ENR_PCT',\n",
       "       'GED_CNT', 'GED_PCT', 'DROPOUT_CNT', 'DROPOUT_PCT'],\n",
       "      dtype='object')"
      ]
     },
     "execution_count": 8,
     "metadata": {},
     "output_type": "execute_result"
    }
   ],
   "source": [
    "grad_2015.columns"
   ]
  },
  {
   "cell_type": "code",
   "execution_count": 9,
   "metadata": {},
   "outputs": [],
   "source": [
    "#make all column headers lowercase\n",
    "grad_2018.columns = map(str.lower, grad_2018.columns)\n",
    "grad_2017.columns = map(str.lower, grad_2017.columns)\n",
    "grad_2016.columns = map(str.lower, grad_2016.columns)\n",
    "grad_2015.columns = map(str.lower, grad_2015.columns)"
   ]
  },
  {
   "cell_type": "code",
   "execution_count": 10,
   "metadata": {},
   "outputs": [
    {
     "name": "stdout",
     "output_type": "stream",
     "text": [
      "37\n",
      "36\n",
      "36\n",
      "37\n",
      "36\n"
     ]
    }
   ],
   "source": [
    "#number of columns in each dataframe\n",
    "print(len(grad_2019.columns))\n",
    "print(len(grad_2018.columns))\n",
    "print(len(grad_2017.columns))\n",
    "print(len(grad_2016.columns))\n",
    "print(len(grad_2015.columns))"
   ]
  },
  {
   "cell_type": "code",
   "execution_count": 11,
   "metadata": {},
   "outputs": [],
   "source": [
    "#drop entity inactive date column from 2019 and 2016\n",
    "grad_2019 = grad_2019.drop(\"entity_inactive_date\", 1)\n",
    "grad_2016 = grad_2016.drop(\"entity_inactive_date\", 1)"
   ]
  },
  {
   "cell_type": "code",
   "execution_count": 12,
   "metadata": {},
   "outputs": [
    {
     "name": "stdout",
     "output_type": "stream",
     "text": [
      "36\n",
      "36\n",
      "36\n",
      "36\n",
      "36\n"
     ]
    }
   ],
   "source": [
    "#number of columns in each dataframe\n",
    "print(len(grad_2019.columns))\n",
    "print(len(grad_2018.columns))\n",
    "print(len(grad_2017.columns))\n",
    "print(len(grad_2016.columns))\n",
    "print(len(grad_2015.columns))"
   ]
  },
  {
   "cell_type": "code",
   "execution_count": 13,
   "metadata": {},
   "outputs": [
    {
     "name": "stdout",
     "output_type": "stream",
     "text": [
      "[ True  True  True  True  True  True  True  True  True  True  True  True\n",
      "  True  True  True  True  True  True  True  True  True  True  True  True\n",
      "  True  True  True  True  True  True  True  True  True  True  True  True]\n",
      "[ True  True  True  True  True  True  True  True  True  True  True  True\n",
      "  True  True  True  True  True  True  True  True  True  True  True  True\n",
      "  True  True  True  True  True  True  True  True  True  True  True  True]\n",
      "[ True  True  True  True  True  True  True  True  True  True  True  True\n",
      "  True  True  True  True  True  True  True  True  True  True  True  True\n",
      "  True  True  True  True  True  True  True  True  True  True  True  True]\n",
      "[ True  True  True  True  True  True  True  True  True  True  True  True\n",
      "  True  True  True  True  True  True  True  True  True  True  True  True\n",
      "  True  True  True  True  True  True  True  True  True  True  True  True]\n"
     ]
    }
   ],
   "source": [
    "#check that all headers are matching \n",
    "print(grad_2019.columns == grad_2018.columns)\n",
    "print(grad_2018.columns == grad_2017.columns)\n",
    "print(grad_2017.columns == grad_2016.columns)\n",
    "print(grad_2016.columns == grad_2015.columns)"
   ]
  },
  {
   "cell_type": "code",
   "execution_count": 14,
   "metadata": {},
   "outputs": [],
   "source": [
    "# join dataframes \n",
    "combined_grad = grad_2019.append([grad_2018, grad_2017, grad_2016, grad_2015])"
   ]
  },
  {
   "cell_type": "code",
   "execution_count": 15,
   "metadata": {},
   "outputs": [
    {
     "name": "stdout",
     "output_type": "stream",
     "text": [
      "674977\n",
      "674977\n"
     ]
    }
   ],
   "source": [
    "# check row count adds up\n",
    "print(len(combined_grad.index))\n",
    "\n",
    "print(len(grad_2019.index) + len(grad_2018.index) + len(grad_2017.index) + len(grad_2016.index) + len(grad_2015.index))"
   ]
  },
  {
   "cell_type": "code",
   "execution_count": 16,
   "metadata": {},
   "outputs": [],
   "source": [
    "# export as csv\n",
    "combined_grad.to_csv(\"/Users/nickorangio/NYC_hs_grad/combined_grad.csv\")"
   ]
  },
  {
   "cell_type": "code",
   "execution_count": 17,
   "metadata": {},
   "outputs": [
    {
     "data": {
      "text/html": [
       "<div>\n",
       "<style scoped>\n",
       "    .dataframe tbody tr th:only-of-type {\n",
       "        vertical-align: middle;\n",
       "    }\n",
       "\n",
       "    .dataframe tbody tr th {\n",
       "        vertical-align: top;\n",
       "    }\n",
       "\n",
       "    .dataframe thead th {\n",
       "        text-align: right;\n",
       "    }\n",
       "</style>\n",
       "<table border=\"1\" class=\"dataframe\">\n",
       "  <thead>\n",
       "    <tr style=\"text-align: right;\">\n",
       "      <th></th>\n",
       "      <th>report_school_year</th>\n",
       "      <th>aggregation_index</th>\n",
       "      <th>aggregation_type</th>\n",
       "      <th>aggregation_code</th>\n",
       "      <th>aggregation_name</th>\n",
       "      <th>lea_beds</th>\n",
       "      <th>lea_name</th>\n",
       "      <th>nrc_code</th>\n",
       "      <th>nrc_desc</th>\n",
       "      <th>county_code</th>\n",
       "      <th>...</th>\n",
       "      <th>reg_adv_cnt</th>\n",
       "      <th>reg_adv_pct</th>\n",
       "      <th>non_diploma_credential_cnt</th>\n",
       "      <th>non_diploma_credential_pct</th>\n",
       "      <th>still_enr_cnt</th>\n",
       "      <th>still_enr_pct</th>\n",
       "      <th>ged_cnt</th>\n",
       "      <th>ged_pct</th>\n",
       "      <th>dropout_cnt</th>\n",
       "      <th>dropout_pct</th>\n",
       "    </tr>\n",
       "  </thead>\n",
       "  <tbody>\n",
       "    <tr>\n",
       "      <th>0</th>\n",
       "      <td>2018-19</td>\n",
       "      <td>0</td>\n",
       "      <td>Statewide</td>\n",
       "      <td>0</td>\n",
       "      <td>All Districts and Charters</td>\n",
       "      <td>NaN</td>\n",
       "      <td>NaN</td>\n",
       "      <td>NaN</td>\n",
       "      <td>NaN</td>\n",
       "      <td>NaN</td>\n",
       "      <td>...</td>\n",
       "      <td>68331</td>\n",
       "      <td>33%</td>\n",
       "      <td>2756</td>\n",
       "      <td>1%</td>\n",
       "      <td>5417</td>\n",
       "      <td>3%</td>\n",
       "      <td>1374</td>\n",
       "      <td>1%</td>\n",
       "      <td>18866</td>\n",
       "      <td>9%</td>\n",
       "    </tr>\n",
       "    <tr>\n",
       "      <th>1</th>\n",
       "      <td>2018-19</td>\n",
       "      <td>0</td>\n",
       "      <td>Statewide</td>\n",
       "      <td>0</td>\n",
       "      <td>All Districts and Charters</td>\n",
       "      <td>NaN</td>\n",
       "      <td>NaN</td>\n",
       "      <td>NaN</td>\n",
       "      <td>NaN</td>\n",
       "      <td>NaN</td>\n",
       "      <td>...</td>\n",
       "      <td>36981</td>\n",
       "      <td>37%</td>\n",
       "      <td>909</td>\n",
       "      <td>1%</td>\n",
       "      <td>2006</td>\n",
       "      <td>2%</td>\n",
       "      <td>541</td>\n",
       "      <td>1%</td>\n",
       "      <td>7442</td>\n",
       "      <td>7%</td>\n",
       "    </tr>\n",
       "    <tr>\n",
       "      <th>2</th>\n",
       "      <td>2018-19</td>\n",
       "      <td>0</td>\n",
       "      <td>Statewide</td>\n",
       "      <td>0</td>\n",
       "      <td>All Districts and Charters</td>\n",
       "      <td>NaN</td>\n",
       "      <td>NaN</td>\n",
       "      <td>NaN</td>\n",
       "      <td>NaN</td>\n",
       "      <td>NaN</td>\n",
       "      <td>...</td>\n",
       "      <td>31350</td>\n",
       "      <td>29%</td>\n",
       "      <td>1847</td>\n",
       "      <td>2%</td>\n",
       "      <td>3411</td>\n",
       "      <td>3%</td>\n",
       "      <td>833</td>\n",
       "      <td>1%</td>\n",
       "      <td>11424</td>\n",
       "      <td>11%</td>\n",
       "    </tr>\n",
       "    <tr>\n",
       "      <th>3</th>\n",
       "      <td>2018-19</td>\n",
       "      <td>0</td>\n",
       "      <td>Statewide</td>\n",
       "      <td>0</td>\n",
       "      <td>All Districts and Charters</td>\n",
       "      <td>NaN</td>\n",
       "      <td>NaN</td>\n",
       "      <td>NaN</td>\n",
       "      <td>NaN</td>\n",
       "      <td>NaN</td>\n",
       "      <td>...</td>\n",
       "      <td>228</td>\n",
       "      <td>18%</td>\n",
       "      <td>26</td>\n",
       "      <td>2%</td>\n",
       "      <td>49</td>\n",
       "      <td>4%</td>\n",
       "      <td>17</td>\n",
       "      <td>1%</td>\n",
       "      <td>209</td>\n",
       "      <td>17%</td>\n",
       "    </tr>\n",
       "    <tr>\n",
       "      <th>4</th>\n",
       "      <td>2018-19</td>\n",
       "      <td>0</td>\n",
       "      <td>Statewide</td>\n",
       "      <td>0</td>\n",
       "      <td>All Districts and Charters</td>\n",
       "      <td>NaN</td>\n",
       "      <td>NaN</td>\n",
       "      <td>NaN</td>\n",
       "      <td>NaN</td>\n",
       "      <td>NaN</td>\n",
       "      <td>...</td>\n",
       "      <td>4329</td>\n",
       "      <td>12%</td>\n",
       "      <td>633</td>\n",
       "      <td>2%</td>\n",
       "      <td>1567</td>\n",
       "      <td>4%</td>\n",
       "      <td>342</td>\n",
       "      <td>1%</td>\n",
       "      <td>4851</td>\n",
       "      <td>13%</td>\n",
       "    </tr>\n",
       "  </tbody>\n",
       "</table>\n",
       "<p>5 rows × 36 columns</p>\n",
       "</div>"
      ],
      "text/plain": [
       "  report_school_year  aggregation_index aggregation_type  aggregation_code  \\\n",
       "0            2018-19                  0        Statewide                 0   \n",
       "1            2018-19                  0        Statewide                 0   \n",
       "2            2018-19                  0        Statewide                 0   \n",
       "3            2018-19                  0        Statewide                 0   \n",
       "4            2018-19                  0        Statewide                 0   \n",
       "\n",
       "             aggregation_name  lea_beds lea_name  nrc_code nrc_desc  \\\n",
       "0  All Districts and Charters       NaN      NaN       NaN      NaN   \n",
       "1  All Districts and Charters       NaN      NaN       NaN      NaN   \n",
       "2  All Districts and Charters       NaN      NaN       NaN      NaN   \n",
       "3  All Districts and Charters       NaN      NaN       NaN      NaN   \n",
       "4  All Districts and Charters       NaN      NaN       NaN      NaN   \n",
       "\n",
       "   county_code  ... reg_adv_cnt  reg_adv_pct  non_diploma_credential_cnt  \\\n",
       "0          NaN  ...       68331          33%                        2756   \n",
       "1          NaN  ...       36981          37%                         909   \n",
       "2          NaN  ...       31350          29%                        1847   \n",
       "3          NaN  ...         228          18%                          26   \n",
       "4          NaN  ...        4329          12%                         633   \n",
       "\n",
       "  non_diploma_credential_pct  still_enr_cnt  still_enr_pct ged_cnt  ged_pct  \\\n",
       "0                         1%           5417             3%    1374       1%   \n",
       "1                         1%           2006             2%     541       1%   \n",
       "2                         2%           3411             3%     833       1%   \n",
       "3                         2%             49             4%      17       1%   \n",
       "4                         2%           1567             4%     342       1%   \n",
       "\n",
       "  dropout_cnt dropout_pct  \n",
       "0       18866          9%  \n",
       "1        7442          7%  \n",
       "2       11424         11%  \n",
       "3         209         17%  \n",
       "4        4851         13%  \n",
       "\n",
       "[5 rows x 36 columns]"
      ]
     },
     "execution_count": 17,
     "metadata": {},
     "output_type": "execute_result"
    }
   ],
   "source": [
    "combined_grad.head()"
   ]
  },
  {
   "cell_type": "code",
   "execution_count": 4,
   "metadata": {},
   "outputs": [
    {
     "name": "stderr",
     "output_type": "stream",
     "text": [
      "/Library/Frameworks/Python.framework/Versions/3.6/lib/python3.6/site-packages/IPython/core/interactiveshell.py:3051: DtypeWarning: Columns (6,8,21) have mixed types.Specify dtype option on import or set low_memory=False.\n",
      "  interactivity=interactivity, compiler=compiler, result=result)\n"
     ]
    },
    {
     "data": {
      "text/html": [
       "<div>\n",
       "<style scoped>\n",
       "    .dataframe tbody tr th:only-of-type {\n",
       "        vertical-align: middle;\n",
       "    }\n",
       "\n",
       "    .dataframe tbody tr th {\n",
       "        vertical-align: top;\n",
       "    }\n",
       "\n",
       "    .dataframe thead th {\n",
       "        text-align: right;\n",
       "    }\n",
       "</style>\n",
       "<table border=\"1\" class=\"dataframe\">\n",
       "  <thead>\n",
       "    <tr style=\"text-align: right;\">\n",
       "      <th></th>\n",
       "      <th>Unnamed: 0</th>\n",
       "      <th>REPORT_SCHOOL_YEAR</th>\n",
       "      <th>AGGREGATION_INDEX</th>\n",
       "      <th>AGGREGATION_TYPE</th>\n",
       "      <th>AGGREGATION_CODE</th>\n",
       "      <th>AGGREGATION_NAME</th>\n",
       "      <th>ENTITY_INACTIVE_DATE</th>\n",
       "      <th>LEA_BEDS</th>\n",
       "      <th>LEA_NAME</th>\n",
       "      <th>NRC_CODE</th>\n",
       "      <th>...</th>\n",
       "      <th>GED_CNT</th>\n",
       "      <th>GED_PCT</th>\n",
       "      <th>DROPOUT_CNT</th>\n",
       "      <th>DROPOUT_PCT</th>\n",
       "      <th>YEAR</th>\n",
       "      <th>NUM_TEACH</th>\n",
       "      <th>NUM_TEACH_INEXP</th>\n",
       "      <th>NUM_OUT_CERT</th>\n",
       "      <th>PER_TEACH_INEXP</th>\n",
       "      <th>PER_OUT_CERT</th>\n",
       "    </tr>\n",
       "  </thead>\n",
       "  <tbody>\n",
       "    <tr>\n",
       "      <th>0</th>\n",
       "      <td>0</td>\n",
       "      <td>2014-15</td>\n",
       "      <td>3.0</td>\n",
       "      <td>District</td>\n",
       "      <td>10100010000</td>\n",
       "      <td>ALBANY CITY SCHOOL DISTRICT</td>\n",
       "      <td>NaN</td>\n",
       "      <td>NaN</td>\n",
       "      <td>NaN</td>\n",
       "      <td>3.0</td>\n",
       "      <td>...</td>\n",
       "      <td>6</td>\n",
       "      <td>1%</td>\n",
       "      <td>180</td>\n",
       "      <td>28%</td>\n",
       "      <td>2015</td>\n",
       "      <td>1952.0</td>\n",
       "      <td>87.0</td>\n",
       "      <td>29.0</td>\n",
       "      <td>4.46</td>\n",
       "      <td>1.49</td>\n",
       "    </tr>\n",
       "    <tr>\n",
       "      <th>1</th>\n",
       "      <td>1</td>\n",
       "      <td>2014-15</td>\n",
       "      <td>3.0</td>\n",
       "      <td>District</td>\n",
       "      <td>10100010000</td>\n",
       "      <td>ALBANY CITY SCHOOL DISTRICT</td>\n",
       "      <td>NaN</td>\n",
       "      <td>NaN</td>\n",
       "      <td>NaN</td>\n",
       "      <td>3.0</td>\n",
       "      <td>...</td>\n",
       "      <td>0</td>\n",
       "      <td>0%</td>\n",
       "      <td>79</td>\n",
       "      <td>26%</td>\n",
       "      <td>2015</td>\n",
       "      <td>1952.0</td>\n",
       "      <td>87.0</td>\n",
       "      <td>29.0</td>\n",
       "      <td>4.46</td>\n",
       "      <td>1.49</td>\n",
       "    </tr>\n",
       "    <tr>\n",
       "      <th>2</th>\n",
       "      <td>2</td>\n",
       "      <td>2014-15</td>\n",
       "      <td>3.0</td>\n",
       "      <td>District</td>\n",
       "      <td>10100010000</td>\n",
       "      <td>ALBANY CITY SCHOOL DISTRICT</td>\n",
       "      <td>NaN</td>\n",
       "      <td>NaN</td>\n",
       "      <td>NaN</td>\n",
       "      <td>3.0</td>\n",
       "      <td>...</td>\n",
       "      <td>6</td>\n",
       "      <td>2%</td>\n",
       "      <td>101</td>\n",
       "      <td>30%</td>\n",
       "      <td>2015</td>\n",
       "      <td>1952.0</td>\n",
       "      <td>87.0</td>\n",
       "      <td>29.0</td>\n",
       "      <td>4.46</td>\n",
       "      <td>1.49</td>\n",
       "    </tr>\n",
       "    <tr>\n",
       "      <th>3</th>\n",
       "      <td>3</td>\n",
       "      <td>2014-15</td>\n",
       "      <td>3.0</td>\n",
       "      <td>District</td>\n",
       "      <td>10100010000</td>\n",
       "      <td>ALBANY CITY SCHOOL DISTRICT</td>\n",
       "      <td>NaN</td>\n",
       "      <td>NaN</td>\n",
       "      <td>NaN</td>\n",
       "      <td>3.0</td>\n",
       "      <td>...</td>\n",
       "      <td>-</td>\n",
       "      <td>-</td>\n",
       "      <td>-</td>\n",
       "      <td>-</td>\n",
       "      <td>2015</td>\n",
       "      <td>1952.0</td>\n",
       "      <td>87.0</td>\n",
       "      <td>29.0</td>\n",
       "      <td>4.46</td>\n",
       "      <td>1.49</td>\n",
       "    </tr>\n",
       "    <tr>\n",
       "      <th>4</th>\n",
       "      <td>4</td>\n",
       "      <td>2014-15</td>\n",
       "      <td>3.0</td>\n",
       "      <td>District</td>\n",
       "      <td>10100010000</td>\n",
       "      <td>ALBANY CITY SCHOOL DISTRICT</td>\n",
       "      <td>NaN</td>\n",
       "      <td>NaN</td>\n",
       "      <td>NaN</td>\n",
       "      <td>3.0</td>\n",
       "      <td>...</td>\n",
       "      <td>6</td>\n",
       "      <td>2%</td>\n",
       "      <td>111</td>\n",
       "      <td>32%</td>\n",
       "      <td>2015</td>\n",
       "      <td>1952.0</td>\n",
       "      <td>87.0</td>\n",
       "      <td>29.0</td>\n",
       "      <td>4.46</td>\n",
       "      <td>1.49</td>\n",
       "    </tr>\n",
       "  </tbody>\n",
       "</table>\n",
       "<p>5 rows × 44 columns</p>\n",
       "</div>"
      ],
      "text/plain": [
       "   Unnamed: 0 REPORT_SCHOOL_YEAR  AGGREGATION_INDEX AGGREGATION_TYPE  \\\n",
       "0           0            2014-15                3.0         District   \n",
       "1           1            2014-15                3.0         District   \n",
       "2           2            2014-15                3.0         District   \n",
       "3           3            2014-15                3.0         District   \n",
       "4           4            2014-15                3.0         District   \n",
       "\n",
       "   AGGREGATION_CODE             AGGREGATION_NAME ENTITY_INACTIVE_DATE  \\\n",
       "0       10100010000  ALBANY CITY SCHOOL DISTRICT                  NaN   \n",
       "1       10100010000  ALBANY CITY SCHOOL DISTRICT                  NaN   \n",
       "2       10100010000  ALBANY CITY SCHOOL DISTRICT                  NaN   \n",
       "3       10100010000  ALBANY CITY SCHOOL DISTRICT                  NaN   \n",
       "4       10100010000  ALBANY CITY SCHOOL DISTRICT                  NaN   \n",
       "\n",
       "   LEA_BEDS LEA_NAME  NRC_CODE  ... GED_CNT  GED_PCT DROPOUT_CNT  DROPOUT_PCT  \\\n",
       "0       NaN      NaN       3.0  ...       6       1%         180          28%   \n",
       "1       NaN      NaN       3.0  ...       0       0%          79          26%   \n",
       "2       NaN      NaN       3.0  ...       6       2%         101          30%   \n",
       "3       NaN      NaN       3.0  ...       -        -           -            -   \n",
       "4       NaN      NaN       3.0  ...       6       2%         111          32%   \n",
       "\n",
       "   YEAR NUM_TEACH  NUM_TEACH_INEXP  NUM_OUT_CERT PER_TEACH_INEXP  PER_OUT_CERT  \n",
       "0  2015    1952.0             87.0          29.0            4.46          1.49  \n",
       "1  2015    1952.0             87.0          29.0            4.46          1.49  \n",
       "2  2015    1952.0             87.0          29.0            4.46          1.49  \n",
       "3  2015    1952.0             87.0          29.0            4.46          1.49  \n",
       "4  2015    1952.0             87.0          29.0            4.46          1.49  \n",
       "\n",
       "[5 rows x 44 columns]"
      ]
     },
     "execution_count": 4,
     "metadata": {},
     "output_type": "execute_result"
    }
   ],
   "source": [
    "#import data from file merged with report cart data, generated via Ben's script \n",
    "total_combined = pd.read_csv(\"/Users/nickorangio/NYC_hs_grad/CSE6242/DataAll/df_combined_all.csv\")\n",
    "total_combined.head()"
   ]
  },
  {
   "cell_type": "code",
   "execution_count": 5,
   "metadata": {},
   "outputs": [
    {
     "data": {
      "text/plain": [
       "Index(['Unnamed: 0', 'REPORT_SCHOOL_YEAR', 'AGGREGATION_INDEX',\n",
       "       'AGGREGATION_TYPE', 'AGGREGATION_CODE', 'AGGREGATION_NAME',\n",
       "       'ENTITY_INACTIVE_DATE', 'LEA_BEDS', 'LEA_NAME', 'NRC_CODE', 'NRC_DESC',\n",
       "       'COUNTY_CODE', 'COUNTY_NAME', 'NYC_IND', 'BOCES_CODE', 'BOCES_NAME',\n",
       "       'MEMBERSHIP_CODE', 'MEMBERSHIP_KEY', 'MEMBERSHIP_DESC', 'SUBGROUP_CODE',\n",
       "       'SUBGROUP_NAME', 'ENROLL_CNT', 'GRAD_CNT', 'GRAD_PCT', 'LOCAL_CNT',\n",
       "       'LOCAL_PCT', 'REG_CNT', 'REG_PCT', 'REG_ADV_CNT', 'REG_ADV_PCT',\n",
       "       'NON_DIPLOMA_CREDENTIAL_CNT', 'NON_DIPLOMA_CREDENTIAL_PCT',\n",
       "       'STILL_ENR_CNT', 'STILL_ENR_PCT', 'GED_CNT', 'GED_PCT', 'DROPOUT_CNT',\n",
       "       'DROPOUT_PCT', 'YEAR', 'NUM_TEACH', 'NUM_TEACH_INEXP', 'NUM_OUT_CERT',\n",
       "       'PER_TEACH_INEXP', 'PER_OUT_CERT'],\n",
       "      dtype='object')"
      ]
     },
     "execution_count": 5,
     "metadata": {},
     "output_type": "execute_result"
    }
   ],
   "source": [
    "#view column names\n",
    "total_combined.columns"
   ]
  },
  {
   "cell_type": "code",
   "execution_count": 55,
   "metadata": {},
   "outputs": [
    {
     "name": "stdout",
     "output_type": "stream",
     "text": [
      "24193\n",
      "1364\n",
      "930\n",
      "310\n"
     ]
    },
    {
     "name": "stderr",
     "output_type": "stream",
     "text": [
      "/Library/Frameworks/Python.framework/Versions/3.6/lib/python3.6/site-packages/ipykernel_launcher.py:26: SettingWithCopyWarning: \n",
      "A value is trying to be set on a copy of a slice from a DataFrame.\n",
      "Try using .loc[row_indexer,col_indexer] = value instead\n",
      "\n",
      "See the caveats in the documentation: https://pandas.pydata.org/pandas-docs/stable/user_guide/indexing.html#returning-a-view-versus-a-copy\n",
      "/Library/Frameworks/Python.framework/Versions/3.6/lib/python3.6/site-packages/ipykernel_launcher.py:27: SettingWithCopyWarning: \n",
      "A value is trying to be set on a copy of a slice from a DataFrame.\n",
      "Try using .loc[row_indexer,col_indexer] = value instead\n",
      "\n",
      "See the caveats in the documentation: https://pandas.pydata.org/pandas-docs/stable/user_guide/indexing.html#returning-a-view-versus-a-copy\n"
     ]
    }
   ],
   "source": [
    "###\n",
    "# Data Extraction for Vuong's MVP Choropleth\n",
    "###\n",
    "\n",
    "# extract county level grad rate, subgroup code and name, dropout rate\n",
    "# filtered in Excel while running code to confirm row counts are accurate\n",
    "\n",
    "\n",
    "#filter for county aggregation level\n",
    "county_only = combined_grad[combined_grad[\"aggregation_type\"] == \"County\"]\n",
    "print(len(county_only.index))\n",
    "\n",
    "# extract only for \"All Students\" cateogry in subgroup name \n",
    "county_all_students = county_only[(county_only[\"subgroup_name\"] == \"All Students\")]\n",
    "print(len(county_all_students.index))\n",
    "\n",
    "# and has a membership code of 6, 8, or 9\n",
    "county_689 = county_all_students[county_all_students[\"membership_code\"].isin([6, 8, 9])]\n",
    "print(len(county_689.index))\n",
    "\n",
    "# select only columns needed (county name, grad percentage, dropout percentage, and report school year)\n",
    "\n",
    "county_cols = county_689[[\"county_name\", \"grad_pct\", \"dropout_pct\", \"report_school_year\"]]\n",
    "\n",
    "#convert columns to numeric\n",
    "county_cols[\"grad_pct\"] = county_cols[\"grad_pct\"].str.rstrip(\"%\").astype(\"float\") / 100\n",
    "county_cols[\"dropout_pct\"] = county_cols[\"dropout_pct\"].str.rstrip(\"%\").astype(\"float\") / 100\n",
    "\n",
    "# group by county and year and take average of each cohort (6, 8, 9) to get one value per county per year for grad_pct\n",
    "# and dropout_pct\n",
    "\n",
    "county_agg = county_cols.groupby([\"county_name\", \"report_school_year\"]).agg({\"grad_pct\" : \"mean\",\n",
    "                                                \"dropout_pct\": \"mean\"})\n",
    "print(len(county_agg.index))\n"
   ]
  },
  {
   "cell_type": "code",
   "execution_count": 56,
   "metadata": {},
   "outputs": [
    {
     "data": {
      "text/plain": [
       "62"
      ]
     },
     "execution_count": 56,
     "metadata": {},
     "output_type": "execute_result"
    }
   ],
   "source": [
    "# how many counties exist in the grad_rate dataframe?\n",
    "len(county_689.groupby(\"county_name\"))"
   ]
  },
  {
   "cell_type": "code",
   "execution_count": 57,
   "metadata": {},
   "outputs": [
    {
     "data": {
      "text/plain": [
       "(930, 36)"
      ]
     },
     "execution_count": 57,
     "metadata": {},
     "output_type": "execute_result"
    }
   ],
   "source": [
    "county_689.shape"
   ]
  },
  {
   "cell_type": "code",
   "execution_count": 58,
   "metadata": {},
   "outputs": [
    {
     "data": {
      "text/plain": [
       "(930, 4)"
      ]
     },
     "execution_count": 58,
     "metadata": {},
     "output_type": "execute_result"
    }
   ],
   "source": [
    "county_cols.shape"
   ]
  },
  {
   "cell_type": "code",
   "execution_count": 59,
   "metadata": {},
   "outputs": [
    {
     "data": {
      "text/html": [
       "<div>\n",
       "<style scoped>\n",
       "    .dataframe tbody tr th:only-of-type {\n",
       "        vertical-align: middle;\n",
       "    }\n",
       "\n",
       "    .dataframe tbody tr th {\n",
       "        vertical-align: top;\n",
       "    }\n",
       "\n",
       "    .dataframe thead th {\n",
       "        text-align: right;\n",
       "    }\n",
       "</style>\n",
       "<table border=\"1\" class=\"dataframe\">\n",
       "  <thead>\n",
       "    <tr style=\"text-align: right;\">\n",
       "      <th></th>\n",
       "      <th>county_name</th>\n",
       "      <th>grad_pct</th>\n",
       "      <th>dropout_pct</th>\n",
       "      <th>report_school_year</th>\n",
       "    </tr>\n",
       "  </thead>\n",
       "  <tbody>\n",
       "    <tr>\n",
       "      <th>1120</th>\n",
       "      <td>ALBANY</td>\n",
       "      <td>0.88</td>\n",
       "      <td>0.09</td>\n",
       "      <td>2018-19</td>\n",
       "    </tr>\n",
       "    <tr>\n",
       "      <th>1144</th>\n",
       "      <td>ALBANY</td>\n",
       "      <td>0.88</td>\n",
       "      <td>0.08</td>\n",
       "      <td>2018-19</td>\n",
       "    </tr>\n",
       "    <tr>\n",
       "      <th>1168</th>\n",
       "      <td>ALBANY</td>\n",
       "      <td>0.85</td>\n",
       "      <td>0.07</td>\n",
       "      <td>2018-19</td>\n",
       "    </tr>\n",
       "    <tr>\n",
       "      <th>1264</th>\n",
       "      <td>ALLEGANY</td>\n",
       "      <td>0.90</td>\n",
       "      <td>0.02</td>\n",
       "      <td>2018-19</td>\n",
       "    </tr>\n",
       "    <tr>\n",
       "      <th>1284</th>\n",
       "      <td>ALLEGANY</td>\n",
       "      <td>0.89</td>\n",
       "      <td>0.06</td>\n",
       "      <td>2018-19</td>\n",
       "    </tr>\n",
       "  </tbody>\n",
       "</table>\n",
       "</div>"
      ],
      "text/plain": [
       "     county_name  grad_pct  dropout_pct report_school_year\n",
       "1120      ALBANY      0.88         0.09            2018-19\n",
       "1144      ALBANY      0.88         0.08            2018-19\n",
       "1168      ALBANY      0.85         0.07            2018-19\n",
       "1264    ALLEGANY      0.90         0.02            2018-19\n",
       "1284    ALLEGANY      0.89         0.06            2018-19"
      ]
     },
     "execution_count": 59,
     "metadata": {},
     "output_type": "execute_result"
    }
   ],
   "source": [
    "county_cols.head()"
   ]
  },
  {
   "cell_type": "code",
   "execution_count": 60,
   "metadata": {},
   "outputs": [
    {
     "data": {
      "text/html": [
       "<div>\n",
       "<style scoped>\n",
       "    .dataframe tbody tr th:only-of-type {\n",
       "        vertical-align: middle;\n",
       "    }\n",
       "\n",
       "    .dataframe tbody tr th {\n",
       "        vertical-align: top;\n",
       "    }\n",
       "\n",
       "    .dataframe thead th {\n",
       "        text-align: right;\n",
       "    }\n",
       "</style>\n",
       "<table border=\"1\" class=\"dataframe\">\n",
       "  <thead>\n",
       "    <tr style=\"text-align: right;\">\n",
       "      <th></th>\n",
       "      <th></th>\n",
       "      <th>grad_pct</th>\n",
       "      <th>dropout_pct</th>\n",
       "    </tr>\n",
       "    <tr>\n",
       "      <th>county_name</th>\n",
       "      <th>report_school_year</th>\n",
       "      <th></th>\n",
       "      <th></th>\n",
       "    </tr>\n",
       "  </thead>\n",
       "  <tbody>\n",
       "    <tr>\n",
       "      <th rowspan=\"5\" valign=\"top\">ALBANY</th>\n",
       "      <th>2014-15</th>\n",
       "      <td>0.833333</td>\n",
       "      <td>0.090000</td>\n",
       "    </tr>\n",
       "    <tr>\n",
       "      <th>2015-16</th>\n",
       "      <td>0.843333</td>\n",
       "      <td>0.093333</td>\n",
       "    </tr>\n",
       "    <tr>\n",
       "      <th>2016-17</th>\n",
       "      <td>0.853333</td>\n",
       "      <td>0.083333</td>\n",
       "    </tr>\n",
       "    <tr>\n",
       "      <th>2017-18</th>\n",
       "      <td>0.863333</td>\n",
       "      <td>0.083333</td>\n",
       "    </tr>\n",
       "    <tr>\n",
       "      <th>2018-19</th>\n",
       "      <td>0.870000</td>\n",
       "      <td>0.080000</td>\n",
       "    </tr>\n",
       "  </tbody>\n",
       "</table>\n",
       "</div>"
      ],
      "text/plain": [
       "                                grad_pct  dropout_pct\n",
       "county_name report_school_year                       \n",
       "ALBANY      2014-15             0.833333     0.090000\n",
       "            2015-16             0.843333     0.093333\n",
       "            2016-17             0.853333     0.083333\n",
       "            2017-18             0.863333     0.083333\n",
       "            2018-19             0.870000     0.080000"
      ]
     },
     "execution_count": 60,
     "metadata": {},
     "output_type": "execute_result"
    }
   ],
   "source": [
    "county_agg.head()"
   ]
  },
  {
   "cell_type": "code",
   "execution_count": 61,
   "metadata": {},
   "outputs": [
    {
     "data": {
      "text/plain": [
       "(310, 2)"
      ]
     },
     "execution_count": 61,
     "metadata": {},
     "output_type": "execute_result"
    }
   ],
   "source": [
    "county_agg.shape"
   ]
  },
  {
   "cell_type": "code",
   "execution_count": null,
   "metadata": {},
   "outputs": [],
   "source": []
  }
 ],
 "metadata": {
  "kernelspec": {
   "display_name": "Python 3",
   "language": "python",
   "name": "python3"
  },
  "language_info": {
   "codemirror_mode": {
    "name": "ipython",
    "version": 3
   },
   "file_extension": ".py",
   "mimetype": "text/x-python",
   "name": "python",
   "nbconvert_exporter": "python",
   "pygments_lexer": "ipython3",
   "version": "3.6.3"
  }
 },
 "nbformat": 4,
 "nbformat_minor": 4
}
