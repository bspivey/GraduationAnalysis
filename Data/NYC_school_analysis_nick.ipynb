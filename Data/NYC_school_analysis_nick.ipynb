{
 "cells": [
  {
   "cell_type": "code",
   "execution_count": 3,
   "metadata": {},
   "outputs": [],
   "source": [
    "# import statements\n",
    "import pandas as pd\n",
    "import numpy as np\n",
    "import pickle\n",
    "import sys\n",
    "sys.setrecursionlimit(10000)\n",
    "import sys, subprocess, os\n",
    "from io import StringIO\n",
    "import pandas as pd\n",
    "verbose = True"
   ]
  },
  {
   "cell_type": "code",
   "execution_count": 4,
   "metadata": {},
   "outputs": [],
   "source": [
    "##\n",
    "# code to convert microsoft access files to pandas tables, currently not functional due to error with mdb-schema\n",
    "##\n",
    "\n",
    "def mdb_to_pandas(database_path):\n",
    "    subprocess.call([\"mdb-schema\", database_path, \"mysql\"])\n",
    "    # Get the list of table names with \"mdb-tables\"\n",
    "    table_names = subprocess.Popen([\"mdb-tables\", \"-1\", database_path],\n",
    "                                   stdout=subprocess.PIPE).communicate()[0]\n",
    "    tables = table_names.splitlines()\n",
    "    sys.stdout.flush()\n",
    "    # Dump each table as a stringio using \"mdb-export\",\n",
    "    out_tables = {}\n",
    "    for rtable in tables:\n",
    "        table = rtable.decode()\n",
    "        if verbose: print('running table:',table)\n",
    "        if table != '':\n",
    "            if verbose: print(\"Dumping \" + table)\n",
    "            contents = subprocess.Popen([\"mdb-export\", database_path, table],\n",
    "                                        stdout=subprocess.PIPE).communicate()[0]\n",
    "            temp_io = StringIO(contents.decode())\n",
    "            print(table, temp_io)\n",
    "            out_tables[table] = pd.read_csv(temp_io)\n",
    "    return out_tables\n",
    "\n",
    "# Query tables\n",
    "\n",
    "#database_path = '/Users/nickorangio/NYC_hs_grad/SRC2019/SRC2019_20200703.mdb'\n",
    "#out_tables = mdb_to_pandas(database_path)\n",
    "#table_names = list(out_tables.keys())\n",
    "#df_staff_qualifications_18 = out_tables['Staff Qualifications']"
   ]
  },
  {
   "cell_type": "code",
   "execution_count": 5,
   "metadata": {},
   "outputs": [
    {
     "name": "stderr",
     "output_type": "stream",
     "text": [
      "/Users/nickorangio/opt/anaconda3/lib/python3.7/site-packages/IPython/core/interactiveshell.py:3063: DtypeWarning: Columns (5,7) have mixed types.Specify dtype option on import or set low_memory=False.\n",
      "  interactivity=interactivity, compiler=compiler, result=result)\n",
      "/Users/nickorangio/opt/anaconda3/lib/python3.7/site-packages/IPython/core/interactiveshell.py:3063: DtypeWarning: Columns (7) have mixed types.Specify dtype option on import or set low_memory=False.\n",
      "  interactivity=interactivity, compiler=compiler, result=result)\n"
     ]
    }
   ],
   "source": [
    "##\n",
    "# import data \n",
    "##\n",
    "\n",
    "#import grad rate 2019\n",
    "grad_2019 = pd.read_csv(\"/Users/nickorangio/NYC_hs_grad/gradrate/GRAD_RATE_AND_OUTCOMES_2019.csv\")\n",
    "\n",
    "#import grad rate 2018 \n",
    "grad_2018 = pd.read_csv(\"/Users/nickorangio/NYC_hs_grad/gradrate_2018/GRAD_RATE_AND_OUTCOMES_2018.csv\")\n",
    "\n",
    "#import grad rate 2017\n",
    "grad_2017 = pd.read_csv(\"/Users/nickorangio/NYC_hs_grad/gradrate_2017/GRAD_RATE_AND_OUTCOMES_2017.csv\")\n",
    "\n",
    "#import grad rate 2016\n",
    "grad_2016 = pd.read_csv(\"/Users/nickorangio/NYC_hs_grad/gradrate_2016/GRAD_RATE_AND_OUTCOMES_2016.csv\")\n",
    "\n",
    "#import grad rate 2015 \n",
    "grad_2015 = pd.read_csv(\"/Users/nickorangio/NYC_hs_grad/gradrate_2015/GRAD_RATE_AND_OUTCOMES_2015.csv\")\n",
    "\n",
    "#import pickles, currently not functional due to recursion error \n",
    "#pickle_grad = pd.read_pickle(r\"/Users/nickorangio/NYC_hs_grad/df_grad_rate_19.pkl\")\n",
    "#staff_pickle = pd.read_pickle(\"/Users/nickorangio/NYC_hs_grad/df_staff_qualifications_18.pkl\")"
   ]
  },
  {
   "cell_type": "code",
   "execution_count": 6,
   "metadata": {},
   "outputs": [
    {
     "data": {
      "text/html": [
       "<div>\n",
       "<style scoped>\n",
       "    .dataframe tbody tr th:only-of-type {\n",
       "        vertical-align: middle;\n",
       "    }\n",
       "\n",
       "    .dataframe tbody tr th {\n",
       "        vertical-align: top;\n",
       "    }\n",
       "\n",
       "    .dataframe thead th {\n",
       "        text-align: right;\n",
       "    }\n",
       "</style>\n",
       "<table border=\"1\" class=\"dataframe\">\n",
       "  <thead>\n",
       "    <tr style=\"text-align: right;\">\n",
       "      <th></th>\n",
       "      <th>report_school_year</th>\n",
       "      <th>aggregation_index</th>\n",
       "      <th>aggregation_type</th>\n",
       "      <th>aggregation_code</th>\n",
       "      <th>aggregation_name</th>\n",
       "      <th>entity_inactive_date</th>\n",
       "      <th>lea_beds</th>\n",
       "      <th>lea_name</th>\n",
       "      <th>nrc_code</th>\n",
       "      <th>nrc_desc</th>\n",
       "      <th>...</th>\n",
       "      <th>reg_adv_cnt</th>\n",
       "      <th>reg_adv_pct</th>\n",
       "      <th>non_diploma_credential_cnt</th>\n",
       "      <th>non_diploma_credential_pct</th>\n",
       "      <th>still_enr_cnt</th>\n",
       "      <th>still_enr_pct</th>\n",
       "      <th>ged_cnt</th>\n",
       "      <th>ged_pct</th>\n",
       "      <th>dropout_cnt</th>\n",
       "      <th>dropout_pct</th>\n",
       "    </tr>\n",
       "  </thead>\n",
       "  <tbody>\n",
       "    <tr>\n",
       "      <th>0</th>\n",
       "      <td>2018-19</td>\n",
       "      <td>0</td>\n",
       "      <td>Statewide</td>\n",
       "      <td>0</td>\n",
       "      <td>All Districts and Charters</td>\n",
       "      <td>NaN</td>\n",
       "      <td>NaN</td>\n",
       "      <td>NaN</td>\n",
       "      <td>NaN</td>\n",
       "      <td>NaN</td>\n",
       "      <td>...</td>\n",
       "      <td>68331</td>\n",
       "      <td>33%</td>\n",
       "      <td>2756</td>\n",
       "      <td>1%</td>\n",
       "      <td>5417</td>\n",
       "      <td>3%</td>\n",
       "      <td>1374</td>\n",
       "      <td>1%</td>\n",
       "      <td>18866</td>\n",
       "      <td>9%</td>\n",
       "    </tr>\n",
       "    <tr>\n",
       "      <th>1</th>\n",
       "      <td>2018-19</td>\n",
       "      <td>0</td>\n",
       "      <td>Statewide</td>\n",
       "      <td>0</td>\n",
       "      <td>All Districts and Charters</td>\n",
       "      <td>NaN</td>\n",
       "      <td>NaN</td>\n",
       "      <td>NaN</td>\n",
       "      <td>NaN</td>\n",
       "      <td>NaN</td>\n",
       "      <td>...</td>\n",
       "      <td>36981</td>\n",
       "      <td>37%</td>\n",
       "      <td>909</td>\n",
       "      <td>1%</td>\n",
       "      <td>2006</td>\n",
       "      <td>2%</td>\n",
       "      <td>541</td>\n",
       "      <td>1%</td>\n",
       "      <td>7442</td>\n",
       "      <td>7%</td>\n",
       "    </tr>\n",
       "    <tr>\n",
       "      <th>2</th>\n",
       "      <td>2018-19</td>\n",
       "      <td>0</td>\n",
       "      <td>Statewide</td>\n",
       "      <td>0</td>\n",
       "      <td>All Districts and Charters</td>\n",
       "      <td>NaN</td>\n",
       "      <td>NaN</td>\n",
       "      <td>NaN</td>\n",
       "      <td>NaN</td>\n",
       "      <td>NaN</td>\n",
       "      <td>...</td>\n",
       "      <td>31350</td>\n",
       "      <td>29%</td>\n",
       "      <td>1847</td>\n",
       "      <td>2%</td>\n",
       "      <td>3411</td>\n",
       "      <td>3%</td>\n",
       "      <td>833</td>\n",
       "      <td>1%</td>\n",
       "      <td>11424</td>\n",
       "      <td>11%</td>\n",
       "    </tr>\n",
       "    <tr>\n",
       "      <th>3</th>\n",
       "      <td>2018-19</td>\n",
       "      <td>0</td>\n",
       "      <td>Statewide</td>\n",
       "      <td>0</td>\n",
       "      <td>All Districts and Charters</td>\n",
       "      <td>NaN</td>\n",
       "      <td>NaN</td>\n",
       "      <td>NaN</td>\n",
       "      <td>NaN</td>\n",
       "      <td>NaN</td>\n",
       "      <td>...</td>\n",
       "      <td>228</td>\n",
       "      <td>18%</td>\n",
       "      <td>26</td>\n",
       "      <td>2%</td>\n",
       "      <td>49</td>\n",
       "      <td>4%</td>\n",
       "      <td>17</td>\n",
       "      <td>1%</td>\n",
       "      <td>209</td>\n",
       "      <td>17%</td>\n",
       "    </tr>\n",
       "    <tr>\n",
       "      <th>4</th>\n",
       "      <td>2018-19</td>\n",
       "      <td>0</td>\n",
       "      <td>Statewide</td>\n",
       "      <td>0</td>\n",
       "      <td>All Districts and Charters</td>\n",
       "      <td>NaN</td>\n",
       "      <td>NaN</td>\n",
       "      <td>NaN</td>\n",
       "      <td>NaN</td>\n",
       "      <td>NaN</td>\n",
       "      <td>...</td>\n",
       "      <td>4329</td>\n",
       "      <td>12%</td>\n",
       "      <td>633</td>\n",
       "      <td>2%</td>\n",
       "      <td>1567</td>\n",
       "      <td>4%</td>\n",
       "      <td>342</td>\n",
       "      <td>1%</td>\n",
       "      <td>4851</td>\n",
       "      <td>13%</td>\n",
       "    </tr>\n",
       "  </tbody>\n",
       "</table>\n",
       "<p>5 rows × 37 columns</p>\n",
       "</div>"
      ],
      "text/plain": [
       "  report_school_year  aggregation_index aggregation_type  aggregation_code  \\\n",
       "0            2018-19                  0        Statewide                 0   \n",
       "1            2018-19                  0        Statewide                 0   \n",
       "2            2018-19                  0        Statewide                 0   \n",
       "3            2018-19                  0        Statewide                 0   \n",
       "4            2018-19                  0        Statewide                 0   \n",
       "\n",
       "             aggregation_name entity_inactive_date  lea_beds lea_name  \\\n",
       "0  All Districts and Charters                  NaN       NaN      NaN   \n",
       "1  All Districts and Charters                  NaN       NaN      NaN   \n",
       "2  All Districts and Charters                  NaN       NaN      NaN   \n",
       "3  All Districts and Charters                  NaN       NaN      NaN   \n",
       "4  All Districts and Charters                  NaN       NaN      NaN   \n",
       "\n",
       "   nrc_code nrc_desc  ...  reg_adv_cnt reg_adv_pct  \\\n",
       "0       NaN      NaN  ...        68331         33%   \n",
       "1       NaN      NaN  ...        36981         37%   \n",
       "2       NaN      NaN  ...        31350         29%   \n",
       "3       NaN      NaN  ...          228         18%   \n",
       "4       NaN      NaN  ...         4329         12%   \n",
       "\n",
       "   non_diploma_credential_cnt  non_diploma_credential_pct still_enr_cnt  \\\n",
       "0                        2756                          1%          5417   \n",
       "1                         909                          1%          2006   \n",
       "2                        1847                          2%          3411   \n",
       "3                          26                          2%            49   \n",
       "4                         633                          2%          1567   \n",
       "\n",
       "   still_enr_pct  ged_cnt ged_pct  dropout_cnt dropout_pct  \n",
       "0             3%     1374      1%        18866          9%  \n",
       "1             2%      541      1%         7442          7%  \n",
       "2             3%      833      1%        11424         11%  \n",
       "3             4%       17      1%          209         17%  \n",
       "4             4%      342      1%         4851         13%  \n",
       "\n",
       "[5 rows x 37 columns]"
      ]
     },
     "execution_count": 6,
     "metadata": {},
     "output_type": "execute_result"
    }
   ],
   "source": [
    "grad_2019.head()"
   ]
  },
  {
   "cell_type": "code",
   "execution_count": 7,
   "metadata": {},
   "outputs": [
    {
     "data": {
      "text/plain": [
       "Index(['report_school_year', 'aggregation_index', 'aggregation_type',\n",
       "       'aggregation_code', 'aggregation_name', 'entity_inactive_date',\n",
       "       'lea_beds', 'lea_name', 'nrc_code', 'nrc_desc', 'county_code',\n",
       "       'county_name', 'nyc_ind', 'boces_code', 'boces_name', 'membership_code',\n",
       "       'membership_key', 'membership_desc', 'subgroup_code', 'subgroup_name',\n",
       "       'enroll_cnt', 'grad_cnt', 'grad_pct', 'local_cnt', 'local_pct',\n",
       "       'reg_cnt', 'reg_pct', 'reg_adv_cnt', 'reg_adv_pct',\n",
       "       'non_diploma_credential_cnt', 'non_diploma_credential_pct',\n",
       "       'still_enr_cnt', 'still_enr_pct', 'ged_cnt', 'ged_pct', 'dropout_cnt',\n",
       "       'dropout_pct'],\n",
       "      dtype='object')"
      ]
     },
     "execution_count": 7,
     "metadata": {},
     "output_type": "execute_result"
    }
   ],
   "source": [
    "grad_2019.columns"
   ]
  },
  {
   "cell_type": "code",
   "execution_count": 8,
   "metadata": {},
   "outputs": [
    {
     "data": {
      "text/plain": [
       "Index(['REPORT_SCHOOL_YEAR', 'AGGREGATION_INDEX', 'AGGREGATION_TYPE',\n",
       "       'AGGREGATION_CODE', 'AGGREGATION_NAME', 'LEA_BEDS', 'LEA_NAME',\n",
       "       'NRC_CODE', 'NRC_DESC', 'COUNTY_CODE', 'COUNTY_NAME', 'NYC_IND',\n",
       "       'BOCES_CODE', 'BOCES_NAME', 'MEMBERSHIP_CODE', 'MEMBERSHIP_KEY',\n",
       "       'MEMBERSHIP_DESC', 'SUBGROUP_CODE', 'SUBGROUP_NAME', 'ENROLL_CNT',\n",
       "       'GRAD_CNT', 'GRAD_PCT', 'LOCAL_CNT', 'LOCAL_PCT', 'REG_CNT', 'REG_PCT',\n",
       "       'REG_ADV_CNT', 'REG_ADV_PCT', 'NON_DIPLOMA_CREDENTIAL_CNT',\n",
       "       'NON_DIPLOMA_CREDENTIAL_PCT', 'STILL_ENR_CNT', 'STILL_ENR_PCT',\n",
       "       'GED_CNT', 'GED_PCT', 'DROPOUT_CNT', 'DROPOUT_PCT'],\n",
       "      dtype='object')"
      ]
     },
     "execution_count": 8,
     "metadata": {},
     "output_type": "execute_result"
    }
   ],
   "source": [
    "grad_2018.columns"
   ]
  },
  {
   "cell_type": "code",
   "execution_count": 9,
   "metadata": {},
   "outputs": [
    {
     "data": {
      "text/plain": [
       "Index(['REPORT_SCHOOL_YEAR', 'AGGREGATION_INDEX', 'AGGREGATION_TYPE',\n",
       "       'AGGREGATION_CODE', 'AGGREGATION_NAME', 'LEA_BEDS', 'LEA_NAME',\n",
       "       'NRC_CODE', 'NRC_DESC', 'COUNTY_CODE', 'COUNTY_NAME', 'NYC_IND',\n",
       "       'BOCES_CODE', 'BOCES_NAME', 'MEMBERSHIP_CODE', 'MEMBERSHIP_KEY',\n",
       "       'MEMBERSHIP_DESC', 'SUBGROUP_CODE', 'SUBGROUP_NAME', 'ENROLL_CNT',\n",
       "       'GRAD_CNT', 'GRAD_PCT', 'LOCAL_CNT', 'LOCAL_PCT', 'REG_CNT', 'REG_PCT',\n",
       "       'REG_ADV_CNT', 'REG_ADV_PCT', 'NON_DIPLOMA_CREDENTIAL_CNT',\n",
       "       'NON_DIPLOMA_CREDENTIAL_PCT', 'STILL_ENR_CNT', 'STILL_ENR_PCT',\n",
       "       'GED_CNT', 'GED_PCT', 'DROPOUT_CNT', 'DROPOUT_PCT'],\n",
       "      dtype='object')"
      ]
     },
     "execution_count": 9,
     "metadata": {},
     "output_type": "execute_result"
    }
   ],
   "source": [
    "grad_2017.columns"
   ]
  },
  {
   "cell_type": "code",
   "execution_count": 10,
   "metadata": {},
   "outputs": [
    {
     "data": {
      "text/plain": [
       "Index(['REPORT_SCHOOL_YEAR', 'AGGREGATION_INDEX', 'AGGREGATION_TYPE',\n",
       "       'AGGREGATION_CODE', 'AGGREGATION_NAME', 'ENTITY_INACTIVE_DATE',\n",
       "       'LEA_BEDS', 'LEA_NAME', 'NRC_CODE', 'NRC_DESC', 'COUNTY_CODE',\n",
       "       'COUNTY_NAME', 'NYC_IND', 'BOCES_CODE', 'BOCES_NAME', 'MEMBERSHIP_CODE',\n",
       "       'MEMBERSHIP_KEY', 'MEMBERSHIP_DESC', 'SUBGROUP_CODE', 'SUBGROUP_NAME',\n",
       "       'ENROLL_CNT', 'GRAD_CNT', 'GRAD_PCT', 'LOCAL_CNT', 'LOCAL_PCT',\n",
       "       'REG_CNT', 'REG_PCT', 'REG_ADV_CNT', 'REG_ADV_PCT',\n",
       "       'NON_DIPLOMA_CREDENTIAL_CNT', 'NON_DIPLOMA_CREDENTIAL_PCT',\n",
       "       'STILL_ENR_CNT', 'STILL_ENR_PCT', 'GED_CNT', 'GED_PCT', 'DROPOUT_CNT',\n",
       "       'DROPOUT_PCT'],\n",
       "      dtype='object')"
      ]
     },
     "execution_count": 10,
     "metadata": {},
     "output_type": "execute_result"
    }
   ],
   "source": [
    "grad_2016.columns"
   ]
  },
  {
   "cell_type": "code",
   "execution_count": 11,
   "metadata": {},
   "outputs": [
    {
     "data": {
      "text/plain": [
       "Index(['REPORT_SCHOOL_YEAR', 'AGGREGATION_INDEX', 'AGGREGATION_TYPE',\n",
       "       'AGGREGATION_CODE', 'AGGREGATION_NAME', 'LEA_BEDS', 'LEA_NAME',\n",
       "       'NRC_CODE', 'NRC_DESC', 'COUNTY_CODE', 'COUNTY_NAME', 'NYC_IND',\n",
       "       'BOCES_CODE', 'BOCES_NAME', 'MEMBERSHIP_CODE', 'MEMBERSHIP_KEY',\n",
       "       'MEMBERSHIP_DESC', 'SUBGROUP_CODE', 'SUBGROUP_NAME', 'ENROLL_CNT',\n",
       "       'GRAD_CNT', 'GRAD_PCT', 'LOCAL_CNT', 'LOCAL_PCT', 'REG_CNT', 'REG_PCT',\n",
       "       'REG_ADV_CNT', 'REG_ADV_PCT', 'NON_DIPLOMA_CREDENTIAL_CNT',\n",
       "       'NON_DIPLOMA_CREDENTIAL_PCT', 'STILL_ENR_CNT', 'STILL_ENR_PCT',\n",
       "       'GED_CNT', 'GED_PCT', 'DROPOUT_CNT', 'DROPOUT_PCT'],\n",
       "      dtype='object')"
      ]
     },
     "execution_count": 11,
     "metadata": {},
     "output_type": "execute_result"
    }
   ],
   "source": [
    "grad_2015.columns"
   ]
  },
  {
   "cell_type": "code",
   "execution_count": 12,
   "metadata": {},
   "outputs": [],
   "source": [
    "#make all column headers lowercase\n",
    "grad_2018.columns = map(str.lower, grad_2018.columns)\n",
    "grad_2017.columns = map(str.lower, grad_2017.columns)\n",
    "grad_2016.columns = map(str.lower, grad_2016.columns)\n",
    "grad_2015.columns = map(str.lower, grad_2015.columns)"
   ]
  },
  {
   "cell_type": "code",
   "execution_count": 13,
   "metadata": {},
   "outputs": [
    {
     "name": "stdout",
     "output_type": "stream",
     "text": [
      "37\n",
      "36\n",
      "36\n",
      "37\n",
      "36\n"
     ]
    }
   ],
   "source": [
    "#number of columns in each dataframe\n",
    "print(len(grad_2019.columns))\n",
    "print(len(grad_2018.columns))\n",
    "print(len(grad_2017.columns))\n",
    "print(len(grad_2016.columns))\n",
    "print(len(grad_2015.columns))"
   ]
  },
  {
   "cell_type": "code",
   "execution_count": 14,
   "metadata": {},
   "outputs": [],
   "source": [
    "#drop entity inactive date column from 2019 and 2016\n",
    "grad_2019 = grad_2019.drop(\"entity_inactive_date\", 1)\n",
    "grad_2016 = grad_2016.drop(\"entity_inactive_date\", 1)"
   ]
  },
  {
   "cell_type": "code",
   "execution_count": 15,
   "metadata": {},
   "outputs": [
    {
     "name": "stdout",
     "output_type": "stream",
     "text": [
      "36\n",
      "36\n",
      "36\n",
      "36\n",
      "36\n"
     ]
    }
   ],
   "source": [
    "#number of columns in each dataframe\n",
    "print(len(grad_2019.columns))\n",
    "print(len(grad_2018.columns))\n",
    "print(len(grad_2017.columns))\n",
    "print(len(grad_2016.columns))\n",
    "print(len(grad_2015.columns))"
   ]
  },
  {
   "cell_type": "code",
   "execution_count": 16,
   "metadata": {},
   "outputs": [
    {
     "name": "stdout",
     "output_type": "stream",
     "text": [
      "[ True  True  True  True  True  True  True  True  True  True  True  True\n",
      "  True  True  True  True  True  True  True  True  True  True  True  True\n",
      "  True  True  True  True  True  True  True  True  True  True  True  True]\n",
      "[ True  True  True  True  True  True  True  True  True  True  True  True\n",
      "  True  True  True  True  True  True  True  True  True  True  True  True\n",
      "  True  True  True  True  True  True  True  True  True  True  True  True]\n",
      "[ True  True  True  True  True  True  True  True  True  True  True  True\n",
      "  True  True  True  True  True  True  True  True  True  True  True  True\n",
      "  True  True  True  True  True  True  True  True  True  True  True  True]\n",
      "[ True  True  True  True  True  True  True  True  True  True  True  True\n",
      "  True  True  True  True  True  True  True  True  True  True  True  True\n",
      "  True  True  True  True  True  True  True  True  True  True  True  True]\n"
     ]
    }
   ],
   "source": [
    "#check that all headers are matching \n",
    "print(grad_2019.columns == grad_2018.columns)\n",
    "print(grad_2018.columns == grad_2017.columns)\n",
    "print(grad_2017.columns == grad_2016.columns)\n",
    "print(grad_2016.columns == grad_2015.columns)"
   ]
  },
  {
   "cell_type": "code",
   "execution_count": 20,
   "metadata": {},
   "outputs": [],
   "source": [
    "# join dataframes \n",
    "combined_grad = grad_2019.append([grad_2018, grad_2017, grad_2016, grad_2015])"
   ]
  },
  {
   "cell_type": "code",
   "execution_count": 29,
   "metadata": {},
   "outputs": [
    {
     "name": "stdout",
     "output_type": "stream",
     "text": [
      "674977\n",
      "674977\n"
     ]
    }
   ],
   "source": [
    "# check row count adds up\n",
    "print(len(combined_grad.index))\n",
    "\n",
    "print(len(grad_2019.index) + len(grad_2018.index) + len(grad_2017.index) + len(grad_2016.index) + len(grad_2015.index))"
   ]
  },
  {
   "cell_type": "code",
   "execution_count": 36,
   "metadata": {},
   "outputs": [],
   "source": [
    "# export combined dataframe as a pickle \n",
    "# currently even a pickle is too large for GitHub (140mb) \n",
    "# solutions pending...\n",
    "\n",
    "# combined_grad.to_pickle(\"/Users/nickorangio/NYC_hs_grad/CSE6242/Data/combined_grad.pkl\")"
   ]
  },
  {
   "cell_type": "code",
   "execution_count": null,
   "metadata": {},
   "outputs": [],
   "source": []
  },
  {
   "cell_type": "code",
   "execution_count": null,
   "metadata": {},
   "outputs": [],
   "source": []
  },
  {
   "cell_type": "code",
   "execution_count": null,
   "metadata": {},
   "outputs": [],
   "source": []
  },
  {
   "cell_type": "code",
   "execution_count": null,
   "metadata": {},
   "outputs": [],
   "source": []
  }
 ],
 "metadata": {
  "kernelspec": {
   "display_name": "Python 3",
   "language": "python",
   "name": "python3"
  },
  "language_info": {
   "codemirror_mode": {
    "name": "ipython",
    "version": 3
   },
   "file_extension": ".py",
   "mimetype": "text/x-python",
   "name": "python",
   "nbconvert_exporter": "python",
   "pygments_lexer": "ipython3",
   "version": "3.6.9"
  }
 },
 "nbformat": 4,
 "nbformat_minor": 4
}
